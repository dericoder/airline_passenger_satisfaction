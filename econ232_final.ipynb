{
 "cells": [
  {
   "cell_type": "code",
   "execution_count": 2,
   "id": "b0f9dd4a",
   "metadata": {},
   "outputs": [],
   "source": [
    "import pandas as pd\n",
    "import numpy as np\n",
    "import matplotlib.pyplot as plt"
   ]
  },
  {
   "cell_type": "code",
   "execution_count": 53,
   "id": "c2d2f4eb",
   "metadata": {},
   "outputs": [
    {
     "data": {
      "text/html": [
       "<div>\n",
       "<style scoped>\n",
       "    .dataframe tbody tr th:only-of-type {\n",
       "        vertical-align: middle;\n",
       "    }\n",
       "\n",
       "    .dataframe tbody tr th {\n",
       "        vertical-align: top;\n",
       "    }\n",
       "\n",
       "    .dataframe thead th {\n",
       "        text-align: right;\n",
       "    }\n",
       "</style>\n",
       "<table border=\"1\" class=\"dataframe\">\n",
       "  <thead>\n",
       "    <tr style=\"text-align: right;\">\n",
       "      <th></th>\n",
       "      <th>Gender</th>\n",
       "      <th>Customer Type</th>\n",
       "      <th>Age</th>\n",
       "      <th>Type of Travel</th>\n",
       "      <th>Class</th>\n",
       "      <th>Flight Distance</th>\n",
       "      <th>Inflight wifi service</th>\n",
       "      <th>Departure/Arrival time convenient</th>\n",
       "      <th>Ease of Online booking</th>\n",
       "      <th>Gate location</th>\n",
       "      <th>...</th>\n",
       "      <th>Inflight entertainment</th>\n",
       "      <th>On-board service</th>\n",
       "      <th>Leg room service</th>\n",
       "      <th>Baggage handling</th>\n",
       "      <th>Checkin service</th>\n",
       "      <th>Inflight service</th>\n",
       "      <th>Cleanliness</th>\n",
       "      <th>Departure Delay in Minutes</th>\n",
       "      <th>Arrival Delay in Minutes</th>\n",
       "      <th>satisfaction</th>\n",
       "    </tr>\n",
       "    <tr>\n",
       "      <th>id</th>\n",
       "      <th></th>\n",
       "      <th></th>\n",
       "      <th></th>\n",
       "      <th></th>\n",
       "      <th></th>\n",
       "      <th></th>\n",
       "      <th></th>\n",
       "      <th></th>\n",
       "      <th></th>\n",
       "      <th></th>\n",
       "      <th></th>\n",
       "      <th></th>\n",
       "      <th></th>\n",
       "      <th></th>\n",
       "      <th></th>\n",
       "      <th></th>\n",
       "      <th></th>\n",
       "      <th></th>\n",
       "      <th></th>\n",
       "      <th></th>\n",
       "      <th></th>\n",
       "    </tr>\n",
       "  </thead>\n",
       "  <tbody>\n",
       "    <tr>\n",
       "      <th>70172</th>\n",
       "      <td>Male</td>\n",
       "      <td>Loyal Customer</td>\n",
       "      <td>13</td>\n",
       "      <td>Personal Travel</td>\n",
       "      <td>Eco Plus</td>\n",
       "      <td>460</td>\n",
       "      <td>3</td>\n",
       "      <td>4</td>\n",
       "      <td>3</td>\n",
       "      <td>1</td>\n",
       "      <td>...</td>\n",
       "      <td>5</td>\n",
       "      <td>4</td>\n",
       "      <td>3</td>\n",
       "      <td>4</td>\n",
       "      <td>4</td>\n",
       "      <td>5</td>\n",
       "      <td>5</td>\n",
       "      <td>25</td>\n",
       "      <td>18.0</td>\n",
       "      <td>neutral or dissatisfied</td>\n",
       "    </tr>\n",
       "    <tr>\n",
       "      <th>5047</th>\n",
       "      <td>Male</td>\n",
       "      <td>disloyal Customer</td>\n",
       "      <td>25</td>\n",
       "      <td>Business travel</td>\n",
       "      <td>Business</td>\n",
       "      <td>235</td>\n",
       "      <td>3</td>\n",
       "      <td>2</td>\n",
       "      <td>3</td>\n",
       "      <td>3</td>\n",
       "      <td>...</td>\n",
       "      <td>1</td>\n",
       "      <td>1</td>\n",
       "      <td>5</td>\n",
       "      <td>3</td>\n",
       "      <td>1</td>\n",
       "      <td>4</td>\n",
       "      <td>1</td>\n",
       "      <td>1</td>\n",
       "      <td>6.0</td>\n",
       "      <td>neutral or dissatisfied</td>\n",
       "    </tr>\n",
       "    <tr>\n",
       "      <th>110028</th>\n",
       "      <td>Female</td>\n",
       "      <td>Loyal Customer</td>\n",
       "      <td>26</td>\n",
       "      <td>Business travel</td>\n",
       "      <td>Business</td>\n",
       "      <td>1142</td>\n",
       "      <td>2</td>\n",
       "      <td>2</td>\n",
       "      <td>2</td>\n",
       "      <td>2</td>\n",
       "      <td>...</td>\n",
       "      <td>5</td>\n",
       "      <td>4</td>\n",
       "      <td>3</td>\n",
       "      <td>4</td>\n",
       "      <td>4</td>\n",
       "      <td>4</td>\n",
       "      <td>5</td>\n",
       "      <td>0</td>\n",
       "      <td>0.0</td>\n",
       "      <td>satisfied</td>\n",
       "    </tr>\n",
       "    <tr>\n",
       "      <th>24026</th>\n",
       "      <td>Female</td>\n",
       "      <td>Loyal Customer</td>\n",
       "      <td>25</td>\n",
       "      <td>Business travel</td>\n",
       "      <td>Business</td>\n",
       "      <td>562</td>\n",
       "      <td>2</td>\n",
       "      <td>5</td>\n",
       "      <td>5</td>\n",
       "      <td>5</td>\n",
       "      <td>...</td>\n",
       "      <td>2</td>\n",
       "      <td>2</td>\n",
       "      <td>5</td>\n",
       "      <td>3</td>\n",
       "      <td>1</td>\n",
       "      <td>4</td>\n",
       "      <td>2</td>\n",
       "      <td>11</td>\n",
       "      <td>9.0</td>\n",
       "      <td>neutral or dissatisfied</td>\n",
       "    </tr>\n",
       "    <tr>\n",
       "      <th>119299</th>\n",
       "      <td>Male</td>\n",
       "      <td>Loyal Customer</td>\n",
       "      <td>61</td>\n",
       "      <td>Business travel</td>\n",
       "      <td>Business</td>\n",
       "      <td>214</td>\n",
       "      <td>3</td>\n",
       "      <td>3</td>\n",
       "      <td>3</td>\n",
       "      <td>3</td>\n",
       "      <td>...</td>\n",
       "      <td>3</td>\n",
       "      <td>3</td>\n",
       "      <td>4</td>\n",
       "      <td>4</td>\n",
       "      <td>3</td>\n",
       "      <td>3</td>\n",
       "      <td>3</td>\n",
       "      <td>0</td>\n",
       "      <td>0.0</td>\n",
       "      <td>satisfied</td>\n",
       "    </tr>\n",
       "  </tbody>\n",
       "</table>\n",
       "<p>5 rows × 23 columns</p>\n",
       "</div>"
      ],
      "text/plain": [
       "        Gender      Customer Type  Age   Type of Travel     Class   \n",
       "id                                                                  \n",
       "70172     Male     Loyal Customer   13  Personal Travel  Eco Plus  \\\n",
       "5047      Male  disloyal Customer   25  Business travel  Business   \n",
       "110028  Female     Loyal Customer   26  Business travel  Business   \n",
       "24026   Female     Loyal Customer   25  Business travel  Business   \n",
       "119299    Male     Loyal Customer   61  Business travel  Business   \n",
       "\n",
       "        Flight Distance  Inflight wifi service   \n",
       "id                                               \n",
       "70172               460                      3  \\\n",
       "5047                235                      3   \n",
       "110028             1142                      2   \n",
       "24026               562                      2   \n",
       "119299              214                      3   \n",
       "\n",
       "        Departure/Arrival time convenient  Ease of Online booking   \n",
       "id                                                                  \n",
       "70172                                   4                       3  \\\n",
       "5047                                    2                       3   \n",
       "110028                                  2                       2   \n",
       "24026                                   5                       5   \n",
       "119299                                  3                       3   \n",
       "\n",
       "        Gate location  ...  Inflight entertainment  On-board service   \n",
       "id                     ...                                             \n",
       "70172               1  ...                       5                 4  \\\n",
       "5047                3  ...                       1                 1   \n",
       "110028              2  ...                       5                 4   \n",
       "24026               5  ...                       2                 2   \n",
       "119299              3  ...                       3                 3   \n",
       "\n",
       "        Leg room service  Baggage handling  Checkin service  Inflight service   \n",
       "id                                                                              \n",
       "70172                  3                 4                4                 5  \\\n",
       "5047                   5                 3                1                 4   \n",
       "110028                 3                 4                4                 4   \n",
       "24026                  5                 3                1                 4   \n",
       "119299                 4                 4                3                 3   \n",
       "\n",
       "        Cleanliness  Departure Delay in Minutes  Arrival Delay in Minutes   \n",
       "id                                                                          \n",
       "70172             5                          25                      18.0  \\\n",
       "5047              1                           1                       6.0   \n",
       "110028            5                           0                       0.0   \n",
       "24026             2                          11                       9.0   \n",
       "119299            3                           0                       0.0   \n",
       "\n",
       "                   satisfaction  \n",
       "id                               \n",
       "70172   neutral or dissatisfied  \n",
       "5047    neutral or dissatisfied  \n",
       "110028                satisfied  \n",
       "24026   neutral or dissatisfied  \n",
       "119299                satisfied  \n",
       "\n",
       "[5 rows x 23 columns]"
      ]
     },
     "execution_count": 53,
     "metadata": {},
     "output_type": "execute_result"
    }
   ],
   "source": [
    "train_data = pd.read_csv('train.csv')\n",
    "train_data = train_data.iloc[: , 1:]\n",
    "train_data = train_data.set_index('id')\n",
    "train_data.head()"
   ]
  },
  {
   "cell_type": "markdown",
   "id": "9d1a05b0",
   "metadata": {},
   "source": [
    "Gender: Gender of the passengers (Female, Male)\n",
    "\n",
    "Customer Type: The customer type (Loyal customer, disloyal customer)\n",
    "\n",
    "Age: The actual age of the passengers\n",
    "\n",
    "Type of Travel: Purpose of the flight of the passengers (Personal Travel, Business Travel)\n",
    "\n",
    "Class: Travel class in the plane of the passengers (Business, Eco, Eco Plus)\n",
    "\n",
    "Flight distance: The flight distance of this journey\n",
    "\n",
    "Inflight wifi service: Satisfaction level of the inflight wifi service (0:Not Applicable;1-5)\n",
    "\n",
    "Departure/Arrival time convenient: Satisfaction level of Departure/Arrival time convenient\n",
    "\n",
    "Ease of Online booking: Satisfaction level of online booking\n",
    "\n",
    "Gate location: Satisfaction level of Gate location\n",
    "\n",
    "Food and drink: Satisfaction level of Food and drink\n",
    "\n",
    "Online boarding: Satisfaction level of online boarding\n",
    "\n",
    "Seat comfort: Satisfaction level of Seat comfort\n",
    "\n",
    "Inflight entertainment: Satisfaction level of inflight entertainment\n",
    "\n",
    "On-board service: Satisfaction level of On-board service\n",
    "\n",
    "Leg room service: Satisfaction level of Leg room service\n",
    "\n",
    "Baggage handling: Satisfaction level of baggage handling\n",
    "\n",
    "Check-in service: Satisfaction level of Check-in service\n",
    "\n",
    "Inflight service: Satisfaction level of inflight service\n",
    "\n",
    "Cleanliness: Satisfaction level of Cleanliness\n",
    "\n",
    "Departure Delay in Minutes: Minutes delayed when departure\n",
    "\n",
    "Arrival Delay in Minutes: Minutes delayed when Arrival\n",
    "\n",
    "Satisfaction: Airline satisfaction level(Satisfaction, neutral or dissatisfaction)"
   ]
  },
  {
   "cell_type": "code",
   "execution_count": 54,
   "id": "e15b8970",
   "metadata": {
    "scrolled": false
   },
   "outputs": [
    {
     "data": {
      "text/plain": [
       "array([[<Axes: title={'center': 'Age'}>,\n",
       "        <Axes: title={'center': 'Flight Distance'}>,\n",
       "        <Axes: title={'center': 'Inflight wifi service'}>,\n",
       "        <Axes: title={'center': 'Departure/Arrival time convenient'}>],\n",
       "       [<Axes: title={'center': 'Ease of Online booking'}>,\n",
       "        <Axes: title={'center': 'Gate location'}>,\n",
       "        <Axes: title={'center': 'Food and drink'}>,\n",
       "        <Axes: title={'center': 'Online boarding'}>],\n",
       "       [<Axes: title={'center': 'Seat comfort'}>,\n",
       "        <Axes: title={'center': 'Inflight entertainment'}>,\n",
       "        <Axes: title={'center': 'On-board service'}>,\n",
       "        <Axes: title={'center': 'Leg room service'}>],\n",
       "       [<Axes: title={'center': 'Baggage handling'}>,\n",
       "        <Axes: title={'center': 'Checkin service'}>,\n",
       "        <Axes: title={'center': 'Inflight service'}>,\n",
       "        <Axes: title={'center': 'Cleanliness'}>],\n",
       "       [<Axes: title={'center': 'Departure Delay in Minutes'}>,\n",
       "        <Axes: title={'center': 'Arrival Delay in Minutes'}>, <Axes: >,\n",
       "        <Axes: >]], dtype=object)"
      ]
     },
     "execution_count": 54,
     "metadata": {},
     "output_type": "execute_result"
    },
    {
     "data": {
      "image/png": "[encoded data removed]",
      "text/plain": [
       "<Figure size 2000x1500 with 20 Axes>"
      ]
     },
     "metadata": {},
     "output_type": "display_data"
    }
   ],
   "source": [
    "train_data.hist(bins=20, figsize=(20,15))"
   ]
  },
  {
   "cell_type": "code",
   "execution_count": 55,
   "id": "e83a65d2",
   "metadata": {
    "scrolled": false
   },
   "outputs": [
    {
     "data": {
      "text/plain": [
       "<Axes: xlabel='satisfaction'>"
      ]
     },
     "execution_count": 55,
     "metadata": {},
     "output_type": "execute_result"
    },
    {
     "data": {
      "image/png": "[encoded data removed]",
      "text/plain": [
       "<Figure size 1600x1000 with 6 Axes>"
      ]
     },
     "metadata": {},
     "output_type": "display_data"
    }
   ],
   "source": [
    "categorical_data = ['Gender', 'Customer Type','Type of Travel' , 'Class', 'satisfaction']\n",
    "\n",
    "fig,axes = plt.subplots(3,2, figsize=(16,10))\n",
    "\n",
    "train_data['Gender'].value_counts().plot(kind='bar', ax=axes[0][0], rot=0)\n",
    "train_data['Customer Type'].value_counts().plot(kind='bar', ax=axes[0][1], rot=0)\n",
    "train_data['Type of Travel'].value_counts().plot(kind='bar', ax=axes[1][0], rot=0)\n",
    "train_data['Class'].value_counts().plot(kind='bar', ax=axes[1][1], rot=0)\n",
    "train_data['satisfaction'].value_counts().plot(kind='bar', ax=axes[2][0], rot=0)\n"
   ]
  },
  {
   "cell_type": "code",
   "execution_count": 56,
   "id": "d8213d91",
   "metadata": {},
   "outputs": [],
   "source": [
    "train_data['Arrival Delay in Minutes'].fillna(train_data['Arrival Delay in Minutes'].mean(), inplace=True)"
   ]
  },
  {
   "cell_type": "code",
   "execution_count": 85,
   "id": "87562180",
   "metadata": {
    "scrolled": false
   },
   "outputs": [
    {
     "data": {
      "text/html": [
       "<div>\n",
       "<style scoped>\n",
       "    .dataframe tbody tr th:only-of-type {\n",
       "        vertical-align: middle;\n",
       "    }\n",
       "\n",
       "    .dataframe tbody tr th {\n",
       "        vertical-align: top;\n",
       "    }\n",
       "\n",
       "    .dataframe thead th {\n",
       "        text-align: right;\n",
       "    }\n",
       "</style>\n",
       "<table border=\"1\" class=\"dataframe\">\n",
       "  <thead>\n",
       "    <tr style=\"text-align: right;\">\n",
       "      <th></th>\n",
       "      <th>onehotencoder__Gender_Female</th>\n",
       "      <th>onehotencoder__Gender_Male</th>\n",
       "      <th>onehotencoder__Customer Type_Loyal Customer</th>\n",
       "      <th>onehotencoder__Customer Type_disloyal Customer</th>\n",
       "      <th>onehotencoder__Type of Travel_Business travel</th>\n",
       "      <th>onehotencoder__Type of Travel_Personal Travel</th>\n",
       "      <th>onehotencoder__Class_Business</th>\n",
       "      <th>onehotencoder__Class_Eco</th>\n",
       "      <th>onehotencoder__Class_Eco Plus</th>\n",
       "      <th>remainder__Age</th>\n",
       "      <th>...</th>\n",
       "      <th>remainder__Seat comfort</th>\n",
       "      <th>remainder__Inflight entertainment</th>\n",
       "      <th>remainder__On-board service</th>\n",
       "      <th>remainder__Leg room service</th>\n",
       "      <th>remainder__Baggage handling</th>\n",
       "      <th>remainder__Checkin service</th>\n",
       "      <th>remainder__Inflight service</th>\n",
       "      <th>remainder__Cleanliness</th>\n",
       "      <th>remainder__Departure Delay in Minutes</th>\n",
       "      <th>remainder__Arrival Delay in Minutes</th>\n",
       "    </tr>\n",
       "  </thead>\n",
       "  <tbody>\n",
       "    <tr>\n",
       "      <th>0</th>\n",
       "      <td>0.0</td>\n",
       "      <td>1.0</td>\n",
       "      <td>1.0</td>\n",
       "      <td>0.0</td>\n",
       "      <td>0.0</td>\n",
       "      <td>1.0</td>\n",
       "      <td>0.0</td>\n",
       "      <td>0.0</td>\n",
       "      <td>1.0</td>\n",
       "      <td>13.0</td>\n",
       "      <td>...</td>\n",
       "      <td>5.0</td>\n",
       "      <td>5.0</td>\n",
       "      <td>4.0</td>\n",
       "      <td>3.0</td>\n",
       "      <td>4.0</td>\n",
       "      <td>4.0</td>\n",
       "      <td>5.0</td>\n",
       "      <td>5.0</td>\n",
       "      <td>25.0</td>\n",
       "      <td>18.0</td>\n",
       "    </tr>\n",
       "    <tr>\n",
       "      <th>1</th>\n",
       "      <td>0.0</td>\n",
       "      <td>1.0</td>\n",
       "      <td>0.0</td>\n",
       "      <td>1.0</td>\n",
       "      <td>1.0</td>\n",
       "      <td>0.0</td>\n",
       "      <td>1.0</td>\n",
       "      <td>0.0</td>\n",
       "      <td>0.0</td>\n",
       "      <td>25.0</td>\n",
       "      <td>...</td>\n",
       "      <td>1.0</td>\n",
       "      <td>1.0</td>\n",
       "      <td>1.0</td>\n",
       "      <td>5.0</td>\n",
       "      <td>3.0</td>\n",
       "      <td>1.0</td>\n",
       "      <td>4.0</td>\n",
       "      <td>1.0</td>\n",
       "      <td>1.0</td>\n",
       "      <td>6.0</td>\n",
       "    </tr>\n",
       "    <tr>\n",
       "      <th>2</th>\n",
       "      <td>1.0</td>\n",
       "      <td>0.0</td>\n",
       "      <td>1.0</td>\n",
       "      <td>0.0</td>\n",
       "      <td>1.0</td>\n",
       "      <td>0.0</td>\n",
       "      <td>1.0</td>\n",
       "      <td>0.0</td>\n",
       "      <td>0.0</td>\n",
       "      <td>26.0</td>\n",
       "      <td>...</td>\n",
       "      <td>5.0</td>\n",
       "      <td>5.0</td>\n",
       "      <td>4.0</td>\n",
       "      <td>3.0</td>\n",
       "      <td>4.0</td>\n",
       "      <td>4.0</td>\n",
       "      <td>4.0</td>\n",
       "      <td>5.0</td>\n",
       "      <td>0.0</td>\n",
       "      <td>0.0</td>\n",
       "    </tr>\n",
       "    <tr>\n",
       "      <th>3</th>\n",
       "      <td>1.0</td>\n",
       "      <td>0.0</td>\n",
       "      <td>1.0</td>\n",
       "      <td>0.0</td>\n",
       "      <td>1.0</td>\n",
       "      <td>0.0</td>\n",
       "      <td>1.0</td>\n",
       "      <td>0.0</td>\n",
       "      <td>0.0</td>\n",
       "      <td>25.0</td>\n",
       "      <td>...</td>\n",
       "      <td>2.0</td>\n",
       "      <td>2.0</td>\n",
       "      <td>2.0</td>\n",
       "      <td>5.0</td>\n",
       "      <td>3.0</td>\n",
       "      <td>1.0</td>\n",
       "      <td>4.0</td>\n",
       "      <td>2.0</td>\n",
       "      <td>11.0</td>\n",
       "      <td>9.0</td>\n",
       "    </tr>\n",
       "    <tr>\n",
       "      <th>4</th>\n",
       "      <td>0.0</td>\n",
       "      <td>1.0</td>\n",
       "      <td>1.0</td>\n",
       "      <td>0.0</td>\n",
       "      <td>1.0</td>\n",
       "      <td>0.0</td>\n",
       "      <td>1.0</td>\n",
       "      <td>0.0</td>\n",
       "      <td>0.0</td>\n",
       "      <td>61.0</td>\n",
       "      <td>...</td>\n",
       "      <td>5.0</td>\n",
       "      <td>3.0</td>\n",
       "      <td>3.0</td>\n",
       "      <td>4.0</td>\n",
       "      <td>4.0</td>\n",
       "      <td>3.0</td>\n",
       "      <td>3.0</td>\n",
       "      <td>3.0</td>\n",
       "      <td>0.0</td>\n",
       "      <td>0.0</td>\n",
       "    </tr>\n",
       "  </tbody>\n",
       "</table>\n",
       "<p>5 rows × 27 columns</p>\n",
       "</div>"
      ],
      "text/plain": [
       "   onehotencoder__Gender_Female  onehotencoder__Gender_Male   \n",
       "0                           0.0                         1.0  \\\n",
       "1                           0.0                         1.0   \n",
       "2                           1.0                         0.0   \n",
       "3                           1.0                         0.0   \n",
       "4                           0.0                         1.0   \n",
       "\n",
       "   onehotencoder__Customer Type_Loyal Customer   \n",
       "0                                          1.0  \\\n",
       "1                                          0.0   \n",
       "2                                          1.0   \n",
       "3                                          1.0   \n",
       "4                                          1.0   \n",
       "\n",
       "   onehotencoder__Customer Type_disloyal Customer   \n",
       "0                                             0.0  \\\n",
       "1                                             1.0   \n",
       "2                                             0.0   \n",
       "3                                             0.0   \n",
       "4                                             0.0   \n",
       "\n",
       "   onehotencoder__Type of Travel_Business travel   \n",
       "0                                            0.0  \\\n",
       "1                                            1.0   \n",
       "2                                            1.0   \n",
       "3                                            1.0   \n",
       "4                                            1.0   \n",
       "\n",
       "   onehotencoder__Type of Travel_Personal Travel   \n",
       "0                                            1.0  \\\n",
       "1                                            0.0   \n",
       "2                                            0.0   \n",
       "3                                            0.0   \n",
       "4                                            0.0   \n",
       "\n",
       "   onehotencoder__Class_Business  onehotencoder__Class_Eco   \n",
       "0                            0.0                       0.0  \\\n",
       "1                            1.0                       0.0   \n",
       "2                            1.0                       0.0   \n",
       "3                            1.0                       0.0   \n",
       "4                            1.0                       0.0   \n",
       "\n",
       "   onehotencoder__Class_Eco Plus  remainder__Age  ...   \n",
       "0                            1.0            13.0  ...  \\\n",
       "1                            0.0            25.0  ...   \n",
       "2                            0.0            26.0  ...   \n",
       "3                            0.0            25.0  ...   \n",
       "4                            0.0            61.0  ...   \n",
       "\n",
       "   remainder__Seat comfort  remainder__Inflight entertainment   \n",
       "0                      5.0                                5.0  \\\n",
       "1                      1.0                                1.0   \n",
       "2                      5.0                                5.0   \n",
       "3                      2.0                                2.0   \n",
       "4                      5.0                                3.0   \n",
       "\n",
       "   remainder__On-board service  remainder__Leg room service   \n",
       "0                          4.0                          3.0  \\\n",
       "1                          1.0                          5.0   \n",
       "2                          4.0                          3.0   \n",
       "3                          2.0                          5.0   \n",
       "4                          3.0                          4.0   \n",
       "\n",
       "   remainder__Baggage handling  remainder__Checkin service   \n",
       "0                          4.0                         4.0  \\\n",
       "1                          3.0                         1.0   \n",
       "2                          4.0                         4.0   \n",
       "3                          3.0                         1.0   \n",
       "4                          4.0                         3.0   \n",
       "\n",
       "   remainder__Inflight service  remainder__Cleanliness   \n",
       "0                          5.0                     5.0  \\\n",
       "1                          4.0                     1.0   \n",
       "2                          4.0                     5.0   \n",
       "3                          4.0                     2.0   \n",
       "4                          3.0                     3.0   \n",
       "\n",
       "   remainder__Departure Delay in Minutes  remainder__Arrival Delay in Minutes  \n",
       "0                                   25.0                                 18.0  \n",
       "1                                    1.0                                  6.0  \n",
       "2                                    0.0                                  0.0  \n",
       "3                                   11.0                                  9.0  \n",
       "4                                    0.0                                  0.0  \n",
       "\n",
       "[5 rows x 27 columns]"
      ]
     },
     "execution_count": 85,
     "metadata": {},
     "output_type": "execute_result"
    }
   ],
   "source": [
    "from sklearn.preprocessing import OneHotEncoder\n",
    "from sklearn.compose import make_column_transformer\n",
    "\n",
    "X_train = train_data.drop(['satisfaction'],axis=1)\n",
    "y_train = train_data['satisfaction']\n",
    "\n",
    "categorical_data = ['Gender', 'Customer Type','Type of Travel' , 'Class']\n",
    "\n",
    "transformer = make_column_transformer(\n",
    "    (OneHotEncoder(), categorical_data),\n",
    "    remainder='passthrough')\n",
    "\n",
    "transformed = transformer.fit_transform(X_train)\n",
    "transformed_df = pd.DataFrame(\n",
    "    transformed, \n",
    "    columns=transformer.get_feature_names_out()\n",
    ")\n",
    "\n",
    "transformed_df.head()"
   ]
  },
  {
   "cell_type": "code",
   "execution_count": 86,
   "id": "8af8f2f1",
   "metadata": {
    "scrolled": false
   },
   "outputs": [
    {
     "name": "stdout",
     "output_type": "stream",
     "text": [
      "ColumnTransformer(transformers=[('numeric',\n",
      "                                 Pipeline(steps=[('scaler', StandardScaler())]),\n",
      "                                 ['Flight Distance', 'Inflight wifi service',\n",
      "                                  'Departure/Arrival time convenient',\n",
      "                                  'Ease of Online booking', 'Gate location',\n",
      "                                  'Food and drink', 'Online boarding',\n",
      "                                  'Seat comfort', 'Inflight entertainment',\n",
      "                                  'On-board service', 'Leg room service',\n",
      "                                  'Baggage handling', 'Checkin service',\n",
      "                                  'Inflight service', 'Cleanliness',\n",
      "                                  'Departure Delay in Minutes',\n",
      "                                  'Arrival Delay in Minutes']),\n",
      "                                ('categorical',\n",
      "                                 Pipeline(steps=[('encoder', OneHotEncoder())]),\n",
      "                                 ['Gender', 'Customer Type', 'Type of Travel',\n",
      "                                  'Class'])])\n"
     ]
    }
   ],
   "source": [
    "from sklearn.preprocessing import OneHotEncoder\n",
    "from sklearn.preprocessing import StandardScaler\n",
    "from sklearn.compose import ColumnTransformer\n",
    "from sklearn.pipeline import Pipeline\n",
    "\n",
    "# numerical transformation \n",
    "\n",
    "num_trans = Pipeline(steps=[('scaler', StandardScaler())])\n",
    "\n",
    "# categorical tranformation\n",
    "\n",
    "cat_trans = Pipeline(steps=[('encoder',OneHotEncoder())])\n",
    "\n",
    "cat_attributes = ['Gender', 'Customer Type','Type of Travel' , 'Class']\n",
    "num_attributes = ['Flight Distance', 'Inflight wifi service',\n",
    "       'Departure/Arrival time convenient', 'Ease of Online booking',\n",
    "       'Gate location', 'Food and drink', 'Online boarding', 'Seat comfort',\n",
    "       'Inflight entertainment', 'On-board service', 'Leg room service',\n",
    "       'Baggage handling', 'Checkin service', 'Inflight service',\n",
    "       'Cleanliness', 'Departure Delay in Minutes', 'Arrival Delay in Minutes']\n",
    "\n",
    "preprocessor = ColumnTransformer(transformers=[('numeric', num_trans, num_attributes),\n",
    "                                             ('categorical', cat_trans, cat_attributes)])\n",
    "print(preprocessor)"
   ]
  },
  {
   "cell_type": "code",
   "execution_count": 87,
   "id": "e92957e2",
   "metadata": {},
   "outputs": [
    {
     "data": {
      "text/plain": [
       "(array([[-0.73153876,  0.20357895,  0.6161719 , ...,  0.        ,\n",
       "          0.        ,  1.        ],\n",
       "        [-0.95718354,  0.20357895, -0.69524516, ...,  1.        ,\n",
       "          0.        ,  0.        ],\n",
       "        [-0.04758435, -0.54953343, -0.69524516, ...,  1.        ,\n",
       "          0.        ,  0.        ],\n",
       "        ...,\n",
       "        [ 0.8078601 , -1.30264581, -1.35095368, ...,  1.        ,\n",
       "          0.        ,  0.        ],\n",
       "        [-0.18999128, -1.30264581, -1.35095368, ...,  0.        ,\n",
       "          1.        ,  0.        ],\n",
       "        [ 0.53508063, -1.30264581, -0.03953663, ...,  1.        ,\n",
       "          0.        ,  0.        ]]),\n",
       " array([0, 0, 1, ..., 0, 0, 0]))"
      ]
     },
     "execution_count": 87,
     "metadata": {},
     "output_type": "execute_result"
    }
   ],
   "source": [
    "from sklearn import preprocessing\n",
    "\n",
    "prepared_train_data = preprocessor.fit_transform(X_train)\n",
    "le = preprocessing.LabelEncoder()\n",
    "le.fit(['neutral or dissatisfied','satisfied'])\n",
    "\n",
    "prepared_train_target = le.transform(y_train)\n",
    "\n",
    "prepared_train_data, prepared_train_target"
   ]
  },
  {
   "cell_type": "code",
   "execution_count": 88,
   "id": "1412775d",
   "metadata": {},
   "outputs": [],
   "source": [
    "from sklearn.linear_model import LogisticRegression\n",
    "from sklearn.linear_model import SGDClassifier\n",
    "from sklearn.neighbors import KNeighborsClassifier\n",
    "from sklearn.tree import DecisionTreeClassifier\n",
    "from sklearn.ensemble import RandomForestClassifier\n",
    "from sklearn.discriminant_analysis import LinearDiscriminantAnalysis\n",
    "from sklearn.naive_bayes import GaussianNB\n",
    "from sklearn.svm import SVC\n",
    "from sklearn.svm import LinearSVC\n",
    "from lightgbm import LGBMClassifier\n",
    "from xgboost import XGBClassifier\n",
    "from sklearn.model_selection import cross_val_score\n",
    "from sklearn.model_selection import KFold"
   ]
  },
  {
   "cell_type": "code",
   "execution_count": 89,
   "id": "28b11c64",
   "metadata": {},
   "outputs": [
    {
     "data": {
      "text/plain": [
       "(103904, 26)"
      ]
     },
     "execution_count": 89,
     "metadata": {},
     "output_type": "execute_result"
    }
   ],
   "source": [
    "prepared_train_data.shape"
   ]
  },
  {
   "cell_type": "code",
   "execution_count": 90,
   "id": "97dbf3f3",
   "metadata": {},
   "outputs": [
    {
     "data": {
      "text/plain": [
       "(103904,)"
      ]
     },
     "execution_count": 90,
     "metadata": {},
     "output_type": "execute_result"
    }
   ],
   "source": [
    "prepared_train_target.shape"
   ]
  },
  {
   "cell_type": "markdown",
   "id": "17a2b44e",
   "metadata": {},
   "source": [
    "Preparing the test data"
   ]
  },
  {
   "cell_type": "code",
   "execution_count": 184,
   "id": "3a7bb259",
   "metadata": {},
   "outputs": [
    {
     "data": {
      "text/plain": [
       "(array([[-1.03517064,  1.70385282,  0.62164094, ...,  0.        ,\n",
       "          1.        ,  0.        ],\n",
       "        [ 1.67144329, -1.29159781, -1.33487097, ...,  1.        ,\n",
       "          0.        ,  0.        ],\n",
       "        [-1.00312786, -0.54273516, -1.98704161, ...,  0.        ,\n",
       "          1.        ,  0.        ],\n",
       "        ...,\n",
       "        [-0.36627752, -0.54273516,  1.27381157, ...,  0.        ,\n",
       "          1.        ,  0.        ],\n",
       "        [-0.06687776,  0.2061275 , -0.0305297 , ...,  1.        ,\n",
       "          0.        ,  0.        ],\n",
       "        [-0.93103159, -0.54273516,  1.27381157, ...,  0.        ,\n",
       "          1.        ,  0.        ]]),\n",
       " array([1, 1, 0, ..., 0, 1, 0]))"
      ]
     },
     "execution_count": 184,
     "metadata": {},
     "output_type": "execute_result"
    }
   ],
   "source": [
    "test_data = pd.read_csv('test.csv')\n",
    "test_data = test_data.iloc[: , 1:]\n",
    "test_data = test_data.set_index('id')\n",
    "test_data['Arrival Delay in Minutes'].fillna(test_data['Arrival Delay in Minutes'].mean(), inplace=True)\n",
    "\n",
    "X_test = test_data.drop(['satisfaction'],axis=1)\n",
    "y_test = test_data['satisfaction']\n",
    "\n",
    "transformed_test = transformer.fit_transform(X_test)\n",
    "transformed_test_df = pd.DataFrame(\n",
    "    transformed, \n",
    "    columns=transformer.get_feature_names_out()\n",
    ")\n",
    "\n",
    "prepared_test_data = preprocessor.fit_transform(X_test)\n",
    "\n",
    "prepared_test_target = le.transform(y_test)\n",
    "prepared_test_data, prepared_test_target"
   ]
  },
  {
   "cell_type": "code",
   "execution_count": 96,
   "id": "8c7869a6",
   "metadata": {},
   "outputs": [
    {
     "name": "stdout",
     "output_type": "stream",
     "text": [
      "LR: 0.875 (0.003)\n",
      "SGD: 0.872 (0.004)\n",
      "KNN: 0.928 (0.002)\n",
      "DT: 0.944 (0.002)\n",
      "RF: 0.961 (0.001)\n",
      "LDA: 0.871 (0.003)\n",
      "NB: 0.849 (0.003)\n",
      "SVC: 0.952 (0.001)\n",
      "LGBM: 0.962 (0.001)\n",
      "XGB: 0.961 (0.0)\n"
     ]
    }
   ],
   "source": [
    "models = []\n",
    "models.append(('LR', LogisticRegression()))\n",
    "models.append(('SGD', SGDClassifier()))\n",
    "models.append(('KNN', KNeighborsClassifier()))\n",
    "models.append(('DT', DecisionTreeClassifier()))\n",
    "models.append(('RF', RandomForestClassifier()))\n",
    "models.append(('LDA', LinearDiscriminantAnalysis()))\n",
    "models.append(('NB', GaussianNB()))\n",
    "models.append(('SVC', SVC()))\n",
    "models.append(('LGBM', LGBMClassifier()))\n",
    "models.append(('XGB', XGBClassifier()))\n",
    "\n",
    "results = []\n",
    "names = []\n",
    "\n",
    "for name,model in models:\n",
    "    kfold = KFold(n_splits=5)\n",
    "    cv_results = cross_val_score(model, prepared_train_data, prepared_train_target, cv=kfold, scoring='accuracy')\n",
    "    results.append(cv_results)\n",
    "    names.append(name)\n",
    "    print(f'{name}: {round(cv_results.mean(),3)} ({round(cv_results.std(),3)})')"
   ]
  },
  {
   "cell_type": "markdown",
   "id": "c8fba82a",
   "metadata": {},
   "source": [
    "Out of these options, the three algorithms that we will pick for final optimization are LGBM classifier, XGB classifier, and Random Forest Classifier. "
   ]
  },
  {
   "cell_type": "markdown",
   "id": "ff33e472",
   "metadata": {},
   "source": [
    "1. LGBM Classifier"
   ]
  },
  {
   "cell_type": "code",
   "execution_count": 97,
   "id": "6346e98d",
   "metadata": {
    "scrolled": true
   },
   "outputs": [
    {
     "data": {
      "text/plain": [
       "{'boosting_type': 'gbdt',\n",
       " 'class_weight': None,\n",
       " 'colsample_bytree': 1.0,\n",
       " 'importance_type': 'split',\n",
       " 'learning_rate': 0.1,\n",
       " 'max_depth': -1,\n",
       " 'min_child_samples': 20,\n",
       " 'min_child_weight': 0.001,\n",
       " 'min_split_gain': 0.0,\n",
       " 'n_estimators': 100,\n",
       " 'n_jobs': -1,\n",
       " 'num_leaves': 31,\n",
       " 'objective': None,\n",
       " 'random_state': None,\n",
       " 'reg_alpha': 0.0,\n",
       " 'reg_lambda': 0.0,\n",
       " 'silent': 'warn',\n",
       " 'subsample': 1.0,\n",
       " 'subsample_for_bin': 200000,\n",
       " 'subsample_freq': 0}"
      ]
     },
     "execution_count": 97,
     "metadata": {},
     "output_type": "execute_result"
    }
   ],
   "source": [
    "LGBMClassifier().get_params()"
   ]
  },
  {
   "cell_type": "code",
   "execution_count": 105,
   "id": "6f1916ca",
   "metadata": {},
   "outputs": [
    {
     "name": "stdout",
     "output_type": "stream",
     "text": [
      "Fitting 3 folds for each of 25 candidates, totalling 75 fits\n"
     ]
    },
    {
     "name": "stderr",
     "output_type": "stream",
     "text": [
      "[LightGBM] [Fatal] Check failed: config->bagging_freq > 0 && config->bagging_fraction < 1.0f && config->bagging_fraction > 0.0f at /private/var/folders/nz/j6p8yfhx1mv_0grj5xl4650h0000gp/T/abs_8a4323bdvv/croot/lightgbm_1677766506188/work/compile/src/boosting/rf.hpp, line 35 .\n",
      "\n",
      "[LightGBM] [Fatal] Check failed: config->bagging_freq > 0 && config->bagging_fraction < 1.0f && config->bagging_fraction > 0.0f at /private/var/folders/nz/j6p8yfhx1mv_0grj5xl4650h0000gp/T/abs_8a4323bdvv/croot/lightgbm_1677766506188/work/compile/src/boosting/rf.hpp, line 35 .\n",
      "\n",
      "[LightGBM] [Fatal] Check failed: config->bagging_freq > 0 && config->bagging_fraction < 1.0f && config->bagging_fraction > 0.0f at /private/var/folders/nz/j6p8yfhx1mv_0grj5xl4650h0000gp/T/abs_8a4323bdvv/croot/lightgbm_1677766506188/work/compile/src/boosting/rf.hpp, line 35 .\n",
      "\n",
      "[LightGBM] [Fatal] Check failed: (num_leaves) > (1) at /private/var/folders/nz/j6p8yfhx1mv_0grj5xl4650h0000gp/T/abs_8a4323bdvv/croot/lightgbm_1677766506188/work/compile/src/io/config_auto.cpp, line 334 .\n",
      "\n",
      "[LightGBM] [Fatal] Check failed: (num_leaves) > (1) at /private/var/folders/nz/j6p8yfhx1mv_0grj5xl4650h0000gp/T/abs_8a4323bdvv/croot/lightgbm_1677766506188/work/compile/src/io/config_auto.cpp, line 334 .\n",
      "\n",
      "[LightGBM] [Fatal] Check failed: (num_leaves) > (1) at /private/var/folders/nz/j6p8yfhx1mv_0grj5xl4650h0000gp/T/abs_8a4323bdvv/croot/lightgbm_1677766506188/work/compile/src/io/config_auto.cpp, line 334 .\n",
      "\n",
      "[LightGBM] [Fatal] Check failed: (num_leaves) > (1) at /private/var/folders/nz/j6p8yfhx1mv_0grj5xl4650h0000gp/T/abs_8a4323bdvv/croot/lightgbm_1677766506188/work/compile/src/io/config_auto.cpp, line 334 .\n",
      "\n",
      "[LightGBM] [Fatal] Check failed: (num_leaves) > (1) at /private/var/folders/nz/j6p8yfhx1mv_0grj5xl4650h0000gp/T/abs_8a4323bdvv/croot/lightgbm_1677766506188/work/compile/src/io/config_auto.cpp, line 334 .\n",
      "\n",
      "[LightGBM] [Fatal] Check failed: (num_leaves) > (1) at /private/var/folders/nz/j6p8yfhx1mv_0grj5xl4650h0000gp/T/abs_8a4323bdvv/croot/lightgbm_1677766506188/work/compile/src/io/config_auto.cpp, line 334 .\n",
      "\n",
      "[LightGBM] [Fatal] Check failed: config->bagging_freq > 0 && config->bagging_fraction < 1.0f && config->bagging_fraction > 0.0f at /private/var/folders/nz/j6p8yfhx1mv_0grj5xl4650h0000gp/T/abs_8a4323bdvv/croot/lightgbm_1677766506188/work/compile/src/boosting/rf.hpp, line 35 .\n",
      "\n",
      "[LightGBM] [Fatal] Check failed: config->bagging_freq > 0 && config->bagging_fraction < 1.0f && config->bagging_fraction > 0.0f at /private/var/folders/nz/j6p8yfhx1mv_0grj5xl4650h0000gp/T/abs_8a4323bdvv/croot/lightgbm_1677766506188/work/compile/src/boosting/rf.hpp, line 35 .\n",
      "\n",
      "[LightGBM] [Fatal] Check failed: config->bagging_freq > 0 && config->bagging_fraction < 1.0f && config->bagging_fraction > 0.0f at /private/var/folders/nz/j6p8yfhx1mv_0grj5xl4650h0000gp/T/abs_8a4323bdvv/croot/lightgbm_1677766506188/work/compile/src/boosting/rf.hpp, line 35 .\n",
      "\n",
      "[LightGBM] [Fatal] Check failed: (num_leaves) > (1) at /private/var/folders/nz/j6p8yfhx1mv_0grj5xl4650h0000gp/T/abs_8a4323bdvv/croot/lightgbm_1677766506188/work/compile/src/io/config_auto.cpp, line 334 .\n",
      "\n",
      "[LightGBM] [Fatal] Check failed: (num_leaves) > (1) at /private/var/folders/nz/j6p8yfhx1mv_0grj5xl4650h0000gp/T/abs_8a4323bdvv/croot/lightgbm_1677766506188/work/compile/src/io/config_auto.cpp, line 334 .\n",
      "\n",
      "[LightGBM] [Fatal] Check failed: (num_leaves) > (1) at /private/var/folders/nz/j6p8yfhx1mv_0grj5xl4650h0000gp/T/abs_8a4323bdvv/croot/lightgbm_1677766506188/work/compile/src/io/config_auto.cpp, line 334 .\n",
      "\n",
      "[LightGBM] [Fatal] Check failed: (num_leaves) > (1) at /private/var/folders/nz/j6p8yfhx1mv_0grj5xl4650h0000gp/T/abs_8a4323bdvv/croot/lightgbm_1677766506188/work/compile/src/io/config_auto.cpp, line 334 .\n",
      "\n",
      "[LightGBM] [Fatal] Check failed: (num_leaves) > (1) at /private/var/folders/nz/j6p8yfhx1mv_0grj5xl4650h0000gp/T/abs_8a4323bdvv/croot/lightgbm_1677766506188/work/compile/src/io/config_auto.cpp, line 334 .\n",
      "\n",
      "[LightGBM] [Fatal] Check failed: (num_leaves) > (1) at /private/var/folders/nz/j6p8yfhx1mv_0grj5xl4650h0000gp/T/abs_8a4323bdvv/croot/lightgbm_1677766506188/work/compile/src/io/config_auto.cpp, line 334 .\n",
      "\n",
      "[LightGBM] [Fatal] Check failed: (num_leaves) > (1) at /private/var/folders/nz/j6p8yfhx1mv_0grj5xl4650h0000gp/T/abs_8a4323bdvv/croot/lightgbm_1677766506188/work/compile/src/io/config_auto.cpp, line 334 .\n",
      "\n",
      "[LightGBM] [Fatal] Check failed: (num_leaves) > (1) at /private/var/folders/nz/j6p8yfhx1mv_0grj5xl4650h0000gp/T/abs_8a4323bdvv/croot/lightgbm_1677766506188/work/compile/src/io/config_auto.cpp, line 334 .\n",
      "\n",
      "[LightGBM] [Fatal] Check failed: (num_leaves) > (1) at /private/var/folders/nz/j6p8yfhx1mv_0grj5xl4650h0000gp/T/abs_8a4323bdvv/croot/lightgbm_1677766506188/work/compile/src/io/config_auto.cpp, line 334 .\n",
      "\n",
      "[LightGBM] [Fatal] Check failed: (learning_rate) > (0.0) at /private/var/folders/nz/j6p8yfhx1mv_0grj5xl4650h0000gp/T/abs_8a4323bdvv/croot/lightgbm_1677766506188/work/compile/src/io/config_auto.cpp, line 331 .\n",
      "\n",
      "[LightGBM] [Fatal] Check failed: (learning_rate) > (0.0) at /private/var/folders/nz/j6p8yfhx1mv_0grj5xl4650h0000gp/T/abs_8a4323bdvv/croot/lightgbm_1677766506188/work/compile/src/io/config_auto.cpp, line 331 .\n",
      "\n",
      "[LightGBM] [Fatal] Check failed: (learning_rate) > (0.0) at /private/var/folders/nz/j6p8yfhx1mv_0grj5xl4650h0000gp/T/abs_8a4323bdvv/croot/lightgbm_1677766506188/work/compile/src/io/config_auto.cpp, line 331 .\n",
      "\n",
      "[LightGBM] [Fatal] Check failed: (learning_rate) > (0.0) at /private/var/folders/nz/j6p8yfhx1mv_0grj5xl4650h0000gp/T/abs_8a4323bdvv/croot/lightgbm_1677766506188/work/compile/src/io/config_auto.cpp, line 331 .\n",
      "\n",
      "[LightGBM] [Fatal] Check failed: (learning_rate) > (0.0) at /private/var/folders/nz/j6p8yfhx1mv_0grj5xl4650h0000gp/T/abs_8a4323bdvv/croot/lightgbm_1677766506188/work/compile/src/io/config_auto.cpp, line 331 .\n",
      "\n",
      "[LightGBM] [Fatal] Check failed: (learning_rate) > (0.0) at /private/var/folders/nz/j6p8yfhx1mv_0grj5xl4650h0000gp/T/abs_8a4323bdvv/croot/lightgbm_1677766506188/work/compile/src/io/config_auto.cpp, line 331 .\n",
      "\n",
      "[LightGBM] [Fatal] Check failed: (learning_rate) > (0.0) at /private/var/folders/nz/j6p8yfhx1mv_0grj5xl4650h0000gp/T/abs_8a4323bdvv/croot/lightgbm_1677766506188/work/compile/src/io/config_auto.cpp, line 331 .\n",
      "\n",
      "[LightGBM] [Fatal] Check failed: (learning_rate) > (0.0) at /private/var/folders/nz/j6p8yfhx1mv_0grj5xl4650h0000gp/T/abs_8a4323bdvv/croot/lightgbm_1677766506188/work/compile/src/io/config_auto.cpp, line 331 .\n",
      "\n",
      "[LightGBM] [Fatal] Check failed: (learning_rate) > (0.0) at /private/var/folders/nz/j6p8yfhx1mv_0grj5xl4650h0000gp/T/abs_8a4323bdvv/croot/lightgbm_1677766506188/work/compile/src/io/config_auto.cpp, line 331 .\n",
      "\n",
      "[LightGBM] [Fatal] Check failed: config->bagging_freq > 0 && config->bagging_fraction < 1.0f && config->bagging_fraction > 0.0f at /private/var/folders/nz/j6p8yfhx1mv_0grj5xl4650h0000gp/T/abs_8a4323bdvv/croot/lightgbm_1677766506188/work/compile/src/boosting/rf.hpp, line 35 .\n",
      "\n",
      "[LightGBM] [Fatal] Check failed: config->bagging_freq > 0 && config->bagging_fraction < 1.0f && config->bagging_fraction > 0.0f at /private/var/folders/nz/j6p8yfhx1mv_0grj5xl4650h0000gp/T/abs_8a4323bdvv/croot/lightgbm_1677766506188/work/compile/src/boosting/rf.hpp, line 35 .\n",
      "\n",
      "[LightGBM] [Fatal] Check failed: config->bagging_freq > 0 && config->bagging_fraction < 1.0f && config->bagging_fraction > 0.0f at /private/var/folders/nz/j6p8yfhx1mv_0grj5xl4650h0000gp/T/abs_8a4323bdvv/croot/lightgbm_1677766506188/work/compile/src/boosting/rf.hpp, line 35 .\n",
      "\n",
      "/Users/dericodehnielsen/miniconda3/envs/tensorflow/lib/python3.10/site-packages/sklearn/model_selection/_validation.py:378: FitFailedWarning: \n",
      "33 fits failed out of a total of 75.\n",
      "The score on these train-test partitions for these parameters will be set to nan.\n",
      "If these failures are not expected, you can try to debug them by setting error_score='raise'.\n",
      "\n",
      "Below are more details about the failures:\n",
      "--------------------------------------------------------------------------------\n",
      "9 fits failed with the following error:\n",
      "Traceback (most recent call last):\n",
      "  File \"/Users/dericodehnielsen/miniconda3/envs/tensorflow/lib/python3.10/site-packages/sklearn/model_selection/_validation.py\", line 686, in _fit_and_score\n",
      "    estimator.fit(X_train, y_train, **fit_params)\n",
      "  File \"/Users/dericodehnielsen/miniconda3/envs/tensorflow/lib/python3.10/site-packages/lightgbm/sklearn.py\", line 967, in fit\n",
      "    super().fit(X, _y, sample_weight=sample_weight, init_score=init_score, eval_set=valid_sets,\n",
      "  File \"/Users/dericodehnielsen/miniconda3/envs/tensorflow/lib/python3.10/site-packages/lightgbm/sklearn.py\", line 748, in fit\n",
      "    self._Booster = train(\n",
      "  File \"/Users/dericodehnielsen/miniconda3/envs/tensorflow/lib/python3.10/site-packages/lightgbm/engine.py\", line 271, in train\n",
      "    booster = Booster(params=params, train_set=train_set)\n",
      "  File \"/Users/dericodehnielsen/miniconda3/envs/tensorflow/lib/python3.10/site-packages/lightgbm/basic.py\", line 2610, in __init__\n",
      "    _safe_call(_LIB.LGBM_BoosterCreate(\n",
      "  File \"/Users/dericodehnielsen/miniconda3/envs/tensorflow/lib/python3.10/site-packages/lightgbm/basic.py\", line 125, in _safe_call\n",
      "    raise LightGBMError(_LIB.LGBM_GetLastError().decode('utf-8'))\n",
      "lightgbm.basic.LightGBMError: Check failed: config->bagging_freq > 0 && config->bagging_fraction < 1.0f && config->bagging_fraction > 0.0f at /private/var/folders/nz/j6p8yfhx1mv_0grj5xl4650h0000gp/T/abs_8a4323bdvv/croot/lightgbm_1677766506188/work/compile/src/boosting/rf.hpp, line 35 .\n",
      "\n",
      "\n",
      "--------------------------------------------------------------------------------\n",
      "15 fits failed with the following error:\n",
      "Traceback (most recent call last):\n",
      "  File \"/Users/dericodehnielsen/miniconda3/envs/tensorflow/lib/python3.10/site-packages/sklearn/model_selection/_validation.py\", line 686, in _fit_and_score\n",
      "    estimator.fit(X_train, y_train, **fit_params)\n",
      "  File \"/Users/dericodehnielsen/miniconda3/envs/tensorflow/lib/python3.10/site-packages/lightgbm/sklearn.py\", line 967, in fit\n",
      "    super().fit(X, _y, sample_weight=sample_weight, init_score=init_score, eval_set=valid_sets,\n",
      "  File \"/Users/dericodehnielsen/miniconda3/envs/tensorflow/lib/python3.10/site-packages/lightgbm/sklearn.py\", line 748, in fit\n",
      "    self._Booster = train(\n",
      "  File \"/Users/dericodehnielsen/miniconda3/envs/tensorflow/lib/python3.10/site-packages/lightgbm/engine.py\", line 271, in train\n",
      "    booster = Booster(params=params, train_set=train_set)\n",
      "  File \"/Users/dericodehnielsen/miniconda3/envs/tensorflow/lib/python3.10/site-packages/lightgbm/basic.py\", line 2605, in __init__\n",
      "    train_set.construct()\n",
      "  File \"/Users/dericodehnielsen/miniconda3/envs/tensorflow/lib/python3.10/site-packages/lightgbm/basic.py\", line 1815, in construct\n",
      "    self._lazy_init(self.data, label=self.label,\n",
      "  File \"/Users/dericodehnielsen/miniconda3/envs/tensorflow/lib/python3.10/site-packages/lightgbm/basic.py\", line 1538, in _lazy_init\n",
      "    self.__init_from_np2d(data, params_str, ref_dataset)\n",
      "  File \"/Users/dericodehnielsen/miniconda3/envs/tensorflow/lib/python3.10/site-packages/lightgbm/basic.py\", line 1659, in __init_from_np2d\n",
      "    _safe_call(_LIB.LGBM_DatasetCreateFromMat(\n",
      "  File \"/Users/dericodehnielsen/miniconda3/envs/tensorflow/lib/python3.10/site-packages/lightgbm/basic.py\", line 125, in _safe_call\n",
      "    raise LightGBMError(_LIB.LGBM_GetLastError().decode('utf-8'))\n",
      "lightgbm.basic.LightGBMError: Check failed: (num_leaves) > (1) at /private/var/folders/nz/j6p8yfhx1mv_0grj5xl4650h0000gp/T/abs_8a4323bdvv/croot/lightgbm_1677766506188/work/compile/src/io/config_auto.cpp, line 334 .\n",
      "\n",
      "\n",
      "--------------------------------------------------------------------------------\n",
      "9 fits failed with the following error:\n",
      "Traceback (most recent call last):\n",
      "  File \"/Users/dericodehnielsen/miniconda3/envs/tensorflow/lib/python3.10/site-packages/sklearn/model_selection/_validation.py\", line 686, in _fit_and_score\n",
      "    estimator.fit(X_train, y_train, **fit_params)\n",
      "  File \"/Users/dericodehnielsen/miniconda3/envs/tensorflow/lib/python3.10/site-packages/lightgbm/sklearn.py\", line 967, in fit\n",
      "    super().fit(X, _y, sample_weight=sample_weight, init_score=init_score, eval_set=valid_sets,\n",
      "  File \"/Users/dericodehnielsen/miniconda3/envs/tensorflow/lib/python3.10/site-packages/lightgbm/sklearn.py\", line 748, in fit\n",
      "    self._Booster = train(\n",
      "  File \"/Users/dericodehnielsen/miniconda3/envs/tensorflow/lib/python3.10/site-packages/lightgbm/engine.py\", line 271, in train\n",
      "    booster = Booster(params=params, train_set=train_set)\n",
      "  File \"/Users/dericodehnielsen/miniconda3/envs/tensorflow/lib/python3.10/site-packages/lightgbm/basic.py\", line 2605, in __init__\n",
      "    train_set.construct()\n",
      "  File \"/Users/dericodehnielsen/miniconda3/envs/tensorflow/lib/python3.10/site-packages/lightgbm/basic.py\", line 1815, in construct\n",
      "    self._lazy_init(self.data, label=self.label,\n",
      "  File \"/Users/dericodehnielsen/miniconda3/envs/tensorflow/lib/python3.10/site-packages/lightgbm/basic.py\", line 1538, in _lazy_init\n",
      "    self.__init_from_np2d(data, params_str, ref_dataset)\n",
      "  File \"/Users/dericodehnielsen/miniconda3/envs/tensorflow/lib/python3.10/site-packages/lightgbm/basic.py\", line 1659, in __init_from_np2d\n",
      "    _safe_call(_LIB.LGBM_DatasetCreateFromMat(\n",
      "  File \"/Users/dericodehnielsen/miniconda3/envs/tensorflow/lib/python3.10/site-packages/lightgbm/basic.py\", line 125, in _safe_call\n",
      "    raise LightGBMError(_LIB.LGBM_GetLastError().decode('utf-8'))\n",
      "lightgbm.basic.LightGBMError: Check failed: (learning_rate) > (0.0) at /private/var/folders/nz/j6p8yfhx1mv_0grj5xl4650h0000gp/T/abs_8a4323bdvv/croot/lightgbm_1677766506188/work/compile/src/io/config_auto.cpp, line 331 .\n",
      "\n",
      "\n",
      "  warnings.warn(some_fits_failed_message, FitFailedWarning)\n",
      "/Users/dericodehnielsen/miniconda3/envs/tensorflow/lib/python3.10/site-packages/sklearn/model_selection/_search.py:952: UserWarning: One or more of the test scores are non-finite: [0.93154259        nan 0.957249          nan        nan        nan\n",
      " 0.94441023 0.95807668        nan        nan 0.93302472 0.95614221\n",
      " 0.93419889 0.95903911 0.95736449        nan        nan 0.95710464\n",
      "        nan 0.93313059 0.95480443        nan        nan 0.9566908\n",
      " 0.95719125]\n",
      "  warnings.warn(\n"
     ]
    },
    {
     "data": {
      "text/html": [
       "<style>#sk-container-id-5 {color: black;background-color: white;}#sk-container-id-5 pre{padding: 0;}#sk-container-id-5 div.sk-toggleable {background-color: white;}#sk-container-id-5 label.sk-toggleable__label {cursor: pointer;display: block;width: 100%;margin-bottom: 0;padding: 0.3em;box-sizing: border-box;text-align: center;}#sk-container-id-5 label.sk-toggleable__label-arrow:before {content: \"▸\";float: left;margin-right: 0.25em;color: #696969;}#sk-container-id-5 label.sk-toggleable__label-arrow:hover:before {color: black;}#sk-container-id-5 div.sk-estimator:hover label.sk-toggleable__label-arrow:before {color: black;}#sk-container-id-5 div.sk-toggleable__content {max-height: 0;max-width: 0;overflow: hidden;text-align: left;background-color: #f0f8ff;}#sk-container-id-5 div.sk-toggleable__content pre {margin: 0.2em;color: black;border-radius: 0.25em;background-color: #f0f8ff;}#sk-container-id-5 input.sk-toggleable__control:checked~div.sk-toggleable__content {max-height: 200px;max-width: 100%;overflow: auto;}#sk-container-id-5 input.sk-toggleable__control:checked~label.sk-toggleable__label-arrow:before {content: \"▾\";}#sk-container-id-5 div.sk-estimator input.sk-toggleable__control:checked~label.sk-toggleable__label {background-color: #d4ebff;}#sk-container-id-5 div.sk-label input.sk-toggleable__control:checked~label.sk-toggleable__label {background-color: #d4ebff;}#sk-container-id-5 input.sk-hidden--visually {border: 0;clip: rect(1px 1px 1px 1px);clip: rect(1px, 1px, 1px, 1px);height: 1px;margin: -1px;overflow: hidden;padding: 0;position: absolute;width: 1px;}#sk-container-id-5 div.sk-estimator {font-family: monospace;background-color: #f0f8ff;border: 1px dotted black;border-radius: 0.25em;box-sizing: border-box;margin-bottom: 0.5em;}#sk-container-id-5 div.sk-estimator:hover {background-color: #d4ebff;}#sk-container-id-5 div.sk-parallel-item::after {content: \"\";width: 100%;border-bottom: 1px solid gray;flex-grow: 1;}#sk-container-id-5 div.sk-label:hover label.sk-toggleable__label {background-color: #d4ebff;}#sk-container-id-5 div.sk-serial::before {content: \"\";position: absolute;border-left: 1px solid gray;box-sizing: border-box;top: 0;bottom: 0;left: 50%;z-index: 0;}#sk-container-id-5 div.sk-serial {display: flex;flex-direction: column;align-items: center;background-color: white;padding-right: 0.2em;padding-left: 0.2em;position: relative;}#sk-container-id-5 div.sk-item {position: relative;z-index: 1;}#sk-container-id-5 div.sk-parallel {display: flex;align-items: stretch;justify-content: center;background-color: white;position: relative;}#sk-container-id-5 div.sk-item::before, #sk-container-id-5 div.sk-parallel-item::before {content: \"\";position: absolute;border-left: 1px solid gray;box-sizing: border-box;top: 0;bottom: 0;left: 50%;z-index: -1;}#sk-container-id-5 div.sk-parallel-item {display: flex;flex-direction: column;z-index: 1;position: relative;background-color: white;}#sk-container-id-5 div.sk-parallel-item:first-child::after {align-self: flex-end;width: 50%;}#sk-container-id-5 div.sk-parallel-item:last-child::after {align-self: flex-start;width: 50%;}#sk-container-id-5 div.sk-parallel-item:only-child::after {width: 0;}#sk-container-id-5 div.sk-dashed-wrapped {border: 1px dashed gray;margin: 0 0.4em 0.5em 0.4em;box-sizing: border-box;padding-bottom: 0.4em;background-color: white;}#sk-container-id-5 div.sk-label label {font-family: monospace;font-weight: bold;display: inline-block;line-height: 1.2em;}#sk-container-id-5 div.sk-label-container {text-align: center;}#sk-container-id-5 div.sk-container {/* jupyter's `normalize.less` sets `[hidden] { display: none; }` but bootstrap.min.css set `[hidden] { display: none !important; }` so we also need the `!important` here to be able to override the default hidden behavior on the sphinx rendered scikit-learn.org. See: https://github.com/scikit-learn/scikit-learn/issues/21755 */display: inline-block !important;position: relative;}#sk-container-id-5 div.sk-text-repr-fallback {display: none;}</style><div id=\"sk-container-id-5\" class=\"sk-top-container\"><div class=\"sk-text-repr-fallback\"><pre>RandomizedSearchCV(cv=3, estimator=LGBMClassifier(), n_iter=25, n_jobs=-1,\n",
       "                   param_distributions={&#x27;boosting_type&#x27;: [&#x27;gbdt&#x27;, &#x27;rf&#x27;, &#x27;dart&#x27;],\n",
       "                                        &#x27;class_weight&#x27;: [&#x27;balanced&#x27;, None],\n",
       "                                        &#x27;learning_rate&#x27;: [0.0, 0.09, 0.18, 0.27,\n",
       "                                                          0.36, 0.44, 0.53,\n",
       "                                                          0.62, 0.71, 0.8],\n",
       "                                        &#x27;max_depth&#x27;: [-2, -1, 0, 1, 2, 3, 4, 5,\n",
       "                                                      6, 7, 8, 9, 10, 11],\n",
       "                                        &#x27;n_estimators&#x27;: [10, 51, 92, 133, 175,\n",
       "                                                         216, 257, 298, 340,\n",
       "                                                         381, 422, 463, 505,\n",
       "                                                         546, 587, 628, 670,\n",
       "                                                         711, 752, 793, 835,\n",
       "                                                         876, 917, 958, 1000],\n",
       "                                        &#x27;num_leaves&#x27;: [0, 0, 1, 2, 4, 8, 16, 32,\n",
       "                                                       64, 128, 256, 512, 1024,\n",
       "                                                       2048],\n",
       "                                        &#x27;objective&#x27;: [&#x27;binary&#x27;],\n",
       "                                        &#x27;reg_alpha&#x27;: [0, 1],\n",
       "                                        &#x27;reg_lambda&#x27;: [0, 1]},\n",
       "                   random_state=42, scoring=&#x27;accuracy&#x27;, verbose=2)</pre><b>In a Jupyter environment, please rerun this cell to show the HTML representation or trust the notebook. <br />On GitHub, the HTML representation is unable to render, please try loading this page with nbviewer.org.</b></div><div class=\"sk-container\" hidden><div class=\"sk-item sk-dashed-wrapped\"><div class=\"sk-label-container\"><div class=\"sk-label sk-toggleable\"><input class=\"sk-toggleable__control sk-hidden--visually\" id=\"sk-estimator-id-11\" type=\"checkbox\" ><label for=\"sk-estimator-id-11\" class=\"sk-toggleable__label sk-toggleable__label-arrow\">RandomizedSearchCV</label><div class=\"sk-toggleable__content\"><pre>RandomizedSearchCV(cv=3, estimator=LGBMClassifier(), n_iter=25, n_jobs=-1,\n",
       "                   param_distributions={&#x27;boosting_type&#x27;: [&#x27;gbdt&#x27;, &#x27;rf&#x27;, &#x27;dart&#x27;],\n",
       "                                        &#x27;class_weight&#x27;: [&#x27;balanced&#x27;, None],\n",
       "                                        &#x27;learning_rate&#x27;: [0.0, 0.09, 0.18, 0.27,\n",
       "                                                          0.36, 0.44, 0.53,\n",
       "                                                          0.62, 0.71, 0.8],\n",
       "                                        &#x27;max_depth&#x27;: [-2, -1, 0, 1, 2, 3, 4, 5,\n",
       "                                                      6, 7, 8, 9, 10, 11],\n",
       "                                        &#x27;n_estimators&#x27;: [10, 51, 92, 133, 175,\n",
       "                                                         216, 257, 298, 340,\n",
       "                                                         381, 422, 463, 505,\n",
       "                                                         546, 587, 628, 670,\n",
       "                                                         711, 752, 793, 835,\n",
       "                                                         876, 917, 958, 1000],\n",
       "                                        &#x27;num_leaves&#x27;: [0, 0, 1, 2, 4, 8, 16, 32,\n",
       "                                                       64, 128, 256, 512, 1024,\n",
       "                                                       2048],\n",
       "                                        &#x27;objective&#x27;: [&#x27;binary&#x27;],\n",
       "                                        &#x27;reg_alpha&#x27;: [0, 1],\n",
       "                                        &#x27;reg_lambda&#x27;: [0, 1]},\n",
       "                   random_state=42, scoring=&#x27;accuracy&#x27;, verbose=2)</pre></div></div></div><div class=\"sk-parallel\"><div class=\"sk-parallel-item\"><div class=\"sk-item\"><div class=\"sk-label-container\"><div class=\"sk-label sk-toggleable\"><input class=\"sk-toggleable__control sk-hidden--visually\" id=\"sk-estimator-id-12\" type=\"checkbox\" ><label for=\"sk-estimator-id-12\" class=\"sk-toggleable__label sk-toggleable__label-arrow\">estimator: LGBMClassifier</label><div class=\"sk-toggleable__content\"><pre>LGBMClassifier()</pre></div></div></div><div class=\"sk-serial\"><div class=\"sk-item\"><div class=\"sk-estimator sk-toggleable\"><input class=\"sk-toggleable__control sk-hidden--visually\" id=\"sk-estimator-id-13\" type=\"checkbox\" ><label for=\"sk-estimator-id-13\" class=\"sk-toggleable__label sk-toggleable__label-arrow\">LGBMClassifier</label><div class=\"sk-toggleable__content\"><pre>LGBMClassifier()</pre></div></div></div></div></div></div></div></div></div></div>"
      ],
      "text/plain": [
       "RandomizedSearchCV(cv=3, estimator=LGBMClassifier(), n_iter=25, n_jobs=-1,\n",
       "                   param_distributions={'boosting_type': ['gbdt', 'rf', 'dart'],\n",
       "                                        'class_weight': ['balanced', None],\n",
       "                                        'learning_rate': [0.0, 0.09, 0.18, 0.27,\n",
       "                                                          0.36, 0.44, 0.53,\n",
       "                                                          0.62, 0.71, 0.8],\n",
       "                                        'max_depth': [-2, -1, 0, 1, 2, 3, 4, 5,\n",
       "                                                      6, 7, 8, 9, 10, 11],\n",
       "                                        'n_estimators': [10, 51, 92, 133, 175,\n",
       "                                                         216, 257, 298, 340,\n",
       "                                                         381, 422, 463, 505,\n",
       "                                                         546, 587, 628, 670,\n",
       "                                                         711, 752, 793, 835,\n",
       "                                                         876, 917, 958, 1000],\n",
       "                                        'num_leaves': [0, 0, 1, 2, 4, 8, 16, 32,\n",
       "                                                       64, 128, 256, 512, 1024,\n",
       "                                                       2048],\n",
       "                                        'objective': ['binary'],\n",
       "                                        'reg_alpha': [0, 1],\n",
       "                                        'reg_lambda': [0, 1]},\n",
       "                   random_state=42, scoring='accuracy', verbose=2)"
      ]
     },
     "execution_count": 105,
     "metadata": {},
     "output_type": "execute_result"
    }
   ],
   "source": [
    "from sklearn.model_selection import RandomizedSearchCV\n",
    "\n",
    "lgbm = LGBMClassifier()\n",
    "\n",
    "boosting_type = ['gbdt','rf','dart']\n",
    "learning_rate = [round(float(x),2) for x in np.linspace(0,0.8,10)]\n",
    "max_depth = [i for i in range(-2,12)]\n",
    "num_leaves = [int(2**x) for x in max_depth]\n",
    "n_estimators = [int(i) for i in np.linspace(10,1000,25)]\n",
    "class_weight = ['balanced', None]\n",
    "reg_alpha = [0,1]\n",
    "reg_lambda = [0,1]\n",
    "\n",
    "\n",
    "random_grid_lgbm = {'boosting_type': boosting_type,\n",
    "              'learning_rate': learning_rate,\n",
    "              'max_depth': max_depth,\n",
    "              'num_leaves': num_leaves,\n",
    "              'n_estimators': n_estimators,\n",
    "                 'objective': ['binary'],\n",
    "                 'class_weight':class_weight,\n",
    "                 'reg_alpha': reg_alpha,\n",
    "                 'reg_lambda': reg_lambda}\n",
    "\n",
    "lgbm_random = RandomizedSearchCV(estimator = lgbm, param_distributions = random_grid_lgbm, n_iter = 25, \n",
    "                               cv = 3, verbose=2, random_state=42, n_jobs = -1, scoring = 'accuracy')\n",
    "lgbm_random.fit(prepared_train_data, prepared_train_target)"
   ]
  },
  {
   "cell_type": "code",
   "execution_count": 106,
   "id": "abba22ca",
   "metadata": {},
   "outputs": [
    {
     "data": {
      "text/plain": [
       "{'reg_lambda': 0,\n",
       " 'reg_alpha': 1,\n",
       " 'objective': 'binary',\n",
       " 'num_leaves': 256,\n",
       " 'n_estimators': 340,\n",
       " 'max_depth': -1,\n",
       " 'learning_rate': 0.18,\n",
       " 'class_weight': 'balanced',\n",
       " 'boosting_type': 'gbdt'}"
      ]
     },
     "execution_count": 106,
     "metadata": {},
     "output_type": "execute_result"
    }
   ],
   "source": [
    "lgbm_random.best_params_"
   ]
  },
  {
   "cell_type": "code",
   "execution_count": 107,
   "id": "a3715798",
   "metadata": {},
   "outputs": [
    {
     "data": {
      "text/html": [
       "<style>#sk-container-id-6 {color: black;background-color: white;}#sk-container-id-6 pre{padding: 0;}#sk-container-id-6 div.sk-toggleable {background-color: white;}#sk-container-id-6 label.sk-toggleable__label {cursor: pointer;display: block;width: 100%;margin-bottom: 0;padding: 0.3em;box-sizing: border-box;text-align: center;}#sk-container-id-6 label.sk-toggleable__label-arrow:before {content: \"▸\";float: left;margin-right: 0.25em;color: #696969;}#sk-container-id-6 label.sk-toggleable__label-arrow:hover:before {color: black;}#sk-container-id-6 div.sk-estimator:hover label.sk-toggleable__label-arrow:before {color: black;}#sk-container-id-6 div.sk-toggleable__content {max-height: 0;max-width: 0;overflow: hidden;text-align: left;background-color: #f0f8ff;}#sk-container-id-6 div.sk-toggleable__content pre {margin: 0.2em;color: black;border-radius: 0.25em;background-color: #f0f8ff;}#sk-container-id-6 input.sk-toggleable__control:checked~div.sk-toggleable__content {max-height: 200px;max-width: 100%;overflow: auto;}#sk-container-id-6 input.sk-toggleable__control:checked~label.sk-toggleable__label-arrow:before {content: \"▾\";}#sk-container-id-6 div.sk-estimator input.sk-toggleable__control:checked~label.sk-toggleable__label {background-color: #d4ebff;}#sk-container-id-6 div.sk-label input.sk-toggleable__control:checked~label.sk-toggleable__label {background-color: #d4ebff;}#sk-container-id-6 input.sk-hidden--visually {border: 0;clip: rect(1px 1px 1px 1px);clip: rect(1px, 1px, 1px, 1px);height: 1px;margin: -1px;overflow: hidden;padding: 0;position: absolute;width: 1px;}#sk-container-id-6 div.sk-estimator {font-family: monospace;background-color: #f0f8ff;border: 1px dotted black;border-radius: 0.25em;box-sizing: border-box;margin-bottom: 0.5em;}#sk-container-id-6 div.sk-estimator:hover {background-color: #d4ebff;}#sk-container-id-6 div.sk-parallel-item::after {content: \"\";width: 100%;border-bottom: 1px solid gray;flex-grow: 1;}#sk-container-id-6 div.sk-label:hover label.sk-toggleable__label {background-color: #d4ebff;}#sk-container-id-6 div.sk-serial::before {content: \"\";position: absolute;border-left: 1px solid gray;box-sizing: border-box;top: 0;bottom: 0;left: 50%;z-index: 0;}#sk-container-id-6 div.sk-serial {display: flex;flex-direction: column;align-items: center;background-color: white;padding-right: 0.2em;padding-left: 0.2em;position: relative;}#sk-container-id-6 div.sk-item {position: relative;z-index: 1;}#sk-container-id-6 div.sk-parallel {display: flex;align-items: stretch;justify-content: center;background-color: white;position: relative;}#sk-container-id-6 div.sk-item::before, #sk-container-id-6 div.sk-parallel-item::before {content: \"\";position: absolute;border-left: 1px solid gray;box-sizing: border-box;top: 0;bottom: 0;left: 50%;z-index: -1;}#sk-container-id-6 div.sk-parallel-item {display: flex;flex-direction: column;z-index: 1;position: relative;background-color: white;}#sk-container-id-6 div.sk-parallel-item:first-child::after {align-self: flex-end;width: 50%;}#sk-container-id-6 div.sk-parallel-item:last-child::after {align-self: flex-start;width: 50%;}#sk-container-id-6 div.sk-parallel-item:only-child::after {width: 0;}#sk-container-id-6 div.sk-dashed-wrapped {border: 1px dashed gray;margin: 0 0.4em 0.5em 0.4em;box-sizing: border-box;padding-bottom: 0.4em;background-color: white;}#sk-container-id-6 div.sk-label label {font-family: monospace;font-weight: bold;display: inline-block;line-height: 1.2em;}#sk-container-id-6 div.sk-label-container {text-align: center;}#sk-container-id-6 div.sk-container {/* jupyter's `normalize.less` sets `[hidden] { display: none; }` but bootstrap.min.css set `[hidden] { display: none !important; }` so we also need the `!important` here to be able to override the default hidden behavior on the sphinx rendered scikit-learn.org. See: https://github.com/scikit-learn/scikit-learn/issues/21755 */display: inline-block !important;position: relative;}#sk-container-id-6 div.sk-text-repr-fallback {display: none;}</style><div id=\"sk-container-id-6\" class=\"sk-top-container\"><div class=\"sk-text-repr-fallback\"><pre>LGBMClassifier(class_weight=&#x27;balanced&#x27;, learning_rate=0.18, n_estimators=340,\n",
       "               num_leaves=256, objective=&#x27;binary&#x27;, reg_alpha=1, reg_lambda=0)</pre><b>In a Jupyter environment, please rerun this cell to show the HTML representation or trust the notebook. <br />On GitHub, the HTML representation is unable to render, please try loading this page with nbviewer.org.</b></div><div class=\"sk-container\" hidden><div class=\"sk-item\"><div class=\"sk-estimator sk-toggleable\"><input class=\"sk-toggleable__control sk-hidden--visually\" id=\"sk-estimator-id-14\" type=\"checkbox\" checked><label for=\"sk-estimator-id-14\" class=\"sk-toggleable__label sk-toggleable__label-arrow\">LGBMClassifier</label><div class=\"sk-toggleable__content\"><pre>LGBMClassifier(class_weight=&#x27;balanced&#x27;, learning_rate=0.18, n_estimators=340,\n",
       "               num_leaves=256, objective=&#x27;binary&#x27;, reg_alpha=1, reg_lambda=0)</pre></div></div></div></div></div>"
      ],
      "text/plain": [
       "LGBMClassifier(class_weight='balanced', learning_rate=0.18, n_estimators=340,\n",
       "               num_leaves=256, objective='binary', reg_alpha=1, reg_lambda=0)"
      ]
     },
     "execution_count": 107,
     "metadata": {},
     "output_type": "execute_result"
    }
   ],
   "source": [
    "lgbm_best = LGBMClassifier(**lgbm_random.best_params_)\n",
    "save_lgbm = {'reg_lambda': 0,\n",
    " 'reg_alpha': 1,\n",
    " 'objective': 'binary',\n",
    " 'num_leaves': 256,\n",
    " 'n_estimators': 340,\n",
    " 'max_depth': -1,\n",
    " 'learning_rate': 0.18,\n",
    " 'class_weight': 'balanced',\n",
    " 'boosting_type': 'gbdt'}\n",
    "lgbm_best.fit(prepared_train_data, prepared_train_target)"
   ]
  },
  {
   "cell_type": "code",
   "execution_count": 192,
   "id": "fc549d6c",
   "metadata": {},
   "outputs": [
    {
     "name": "stdout",
     "output_type": "stream",
     "text": [
      "precision score: 0.9646500805441203\n",
      "recall score: 0.9452775585372271\n",
      "accuracy score: 0.9607714813674161\n"
     ]
    }
   ],
   "source": [
    "from sklearn.metrics import precision_score, recall_score\n",
    "from sklearn.metrics import accuracy_score\n",
    "\n",
    "y_pred_lgbm = lgbm_best.predict(prepared_test_data)\n",
    "\n",
    "def score(true,pred):\n",
    "    print(f'precision score: {precision_score(true, pred)}')\n",
    "    print(f'recall score: {recall_score(true, pred)}')\n",
    "    print(f'accuracy score: {accuracy_score(true,pred)}')\n",
    "                              \n",
    "score(prepared_test_target, y_pred_lgbm)"
   ]
  },
  {
   "cell_type": "markdown",
   "id": "80ec3eb4",
   "metadata": {},
   "source": [
    "2. XGB Classifier"
   ]
  },
  {
   "cell_type": "code",
   "execution_count": 119,
   "id": "64850159",
   "metadata": {},
   "outputs": [
    {
     "data": {
      "text/plain": [
       "{'objective': 'binary:logistic',\n",
       " 'use_label_encoder': None,\n",
       " 'base_score': None,\n",
       " 'booster': None,\n",
       " 'callbacks': None,\n",
       " 'colsample_bylevel': None,\n",
       " 'colsample_bynode': None,\n",
       " 'colsample_bytree': None,\n",
       " 'early_stopping_rounds': None,\n",
       " 'enable_categorical': False,\n",
       " 'eval_metric': None,\n",
       " 'feature_types': None,\n",
       " 'gamma': None,\n",
       " 'gpu_id': None,\n",
       " 'grow_policy': None,\n",
       " 'importance_type': None,\n",
       " 'interaction_constraints': None,\n",
       " 'learning_rate': None,\n",
       " 'max_bin': None,\n",
       " 'max_cat_threshold': None,\n",
       " 'max_cat_to_onehot': None,\n",
       " 'max_delta_step': None,\n",
       " 'max_depth': None,\n",
       " 'max_leaves': None,\n",
       " 'min_child_weight': None,\n",
       " 'missing': nan,\n",
       " 'monotone_constraints': None,\n",
       " 'n_estimators': 100,\n",
       " 'n_jobs': None,\n",
       " 'num_parallel_tree': None,\n",
       " 'predictor': None,\n",
       " 'random_state': None,\n",
       " 'reg_alpha': None,\n",
       " 'reg_lambda': None,\n",
       " 'sampling_method': None,\n",
       " 'scale_pos_weight': None,\n",
       " 'subsample': None,\n",
       " 'tree_method': None,\n",
       " 'validate_parameters': None,\n",
       " 'verbosity': None}"
      ]
     },
     "execution_count": 119,
     "metadata": {},
     "output_type": "execute_result"
    }
   ],
   "source": [
    "XGBClassifier().get_params()"
   ]
  },
  {
   "cell_type": "code",
   "execution_count": 127,
   "id": "d6a3f4c3",
   "metadata": {},
   "outputs": [
    {
     "name": "stdout",
     "output_type": "stream",
     "text": [
      "Fitting 3 folds for each of 10 candidates, totalling 30 fits\n"
     ]
    },
    {
     "data": {
      "text/html": [
       "<style>#sk-container-id-8 {color: black;background-color: white;}#sk-container-id-8 pre{padding: 0;}#sk-container-id-8 div.sk-toggleable {background-color: white;}#sk-container-id-8 label.sk-toggleable__label {cursor: pointer;display: block;width: 100%;margin-bottom: 0;padding: 0.3em;box-sizing: border-box;text-align: center;}#sk-container-id-8 label.sk-toggleable__label-arrow:before {content: \"▸\";float: left;margin-right: 0.25em;color: #696969;}#sk-container-id-8 label.sk-toggleable__label-arrow:hover:before {color: black;}#sk-container-id-8 div.sk-estimator:hover label.sk-toggleable__label-arrow:before {color: black;}#sk-container-id-8 div.sk-toggleable__content {max-height: 0;max-width: 0;overflow: hidden;text-align: left;background-color: #f0f8ff;}#sk-container-id-8 div.sk-toggleable__content pre {margin: 0.2em;color: black;border-radius: 0.25em;background-color: #f0f8ff;}#sk-container-id-8 input.sk-toggleable__control:checked~div.sk-toggleable__content {max-height: 200px;max-width: 100%;overflow: auto;}#sk-container-id-8 input.sk-toggleable__control:checked~label.sk-toggleable__label-arrow:before {content: \"▾\";}#sk-container-id-8 div.sk-estimator input.sk-toggleable__control:checked~label.sk-toggleable__label {background-color: #d4ebff;}#sk-container-id-8 div.sk-label input.sk-toggleable__control:checked~label.sk-toggleable__label {background-color: #d4ebff;}#sk-container-id-8 input.sk-hidden--visually {border: 0;clip: rect(1px 1px 1px 1px);clip: rect(1px, 1px, 1px, 1px);height: 1px;margin: -1px;overflow: hidden;padding: 0;position: absolute;width: 1px;}#sk-container-id-8 div.sk-estimator {font-family: monospace;background-color: #f0f8ff;border: 1px dotted black;border-radius: 0.25em;box-sizing: border-box;margin-bottom: 0.5em;}#sk-container-id-8 div.sk-estimator:hover {background-color: #d4ebff;}#sk-container-id-8 div.sk-parallel-item::after {content: \"\";width: 100%;border-bottom: 1px solid gray;flex-grow: 1;}#sk-container-id-8 div.sk-label:hover label.sk-toggleable__label {background-color: #d4ebff;}#sk-container-id-8 div.sk-serial::before {content: \"\";position: absolute;border-left: 1px solid gray;box-sizing: border-box;top: 0;bottom: 0;left: 50%;z-index: 0;}#sk-container-id-8 div.sk-serial {display: flex;flex-direction: column;align-items: center;background-color: white;padding-right: 0.2em;padding-left: 0.2em;position: relative;}#sk-container-id-8 div.sk-item {position: relative;z-index: 1;}#sk-container-id-8 div.sk-parallel {display: flex;align-items: stretch;justify-content: center;background-color: white;position: relative;}#sk-container-id-8 div.sk-item::before, #sk-container-id-8 div.sk-parallel-item::before {content: \"\";position: absolute;border-left: 1px solid gray;box-sizing: border-box;top: 0;bottom: 0;left: 50%;z-index: -1;}#sk-container-id-8 div.sk-parallel-item {display: flex;flex-direction: column;z-index: 1;position: relative;background-color: white;}#sk-container-id-8 div.sk-parallel-item:first-child::after {align-self: flex-end;width: 50%;}#sk-container-id-8 div.sk-parallel-item:last-child::after {align-self: flex-start;width: 50%;}#sk-container-id-8 div.sk-parallel-item:only-child::after {width: 0;}#sk-container-id-8 div.sk-dashed-wrapped {border: 1px dashed gray;margin: 0 0.4em 0.5em 0.4em;box-sizing: border-box;padding-bottom: 0.4em;background-color: white;}#sk-container-id-8 div.sk-label label {font-family: monospace;font-weight: bold;display: inline-block;line-height: 1.2em;}#sk-container-id-8 div.sk-label-container {text-align: center;}#sk-container-id-8 div.sk-container {/* jupyter's `normalize.less` sets `[hidden] { display: none; }` but bootstrap.min.css set `[hidden] { display: none !important; }` so we also need the `!important` here to be able to override the default hidden behavior on the sphinx rendered scikit-learn.org. See: https://github.com/scikit-learn/scikit-learn/issues/21755 */display: inline-block !important;position: relative;}#sk-container-id-8 div.sk-text-repr-fallback {display: none;}</style><div id=\"sk-container-id-8\" class=\"sk-top-container\"><div class=\"sk-text-repr-fallback\"><pre>RandomizedSearchCV(cv=3,\n",
       "                   estimator=XGBClassifier(base_score=None, booster=None,\n",
       "                                           callbacks=None,\n",
       "                                           colsample_bylevel=None,\n",
       "                                           colsample_bynode=None,\n",
       "                                           colsample_bytree=None,\n",
       "                                           early_stopping_rounds=None,\n",
       "                                           enable_categorical=False,\n",
       "                                           eval_metric=None, feature_types=None,\n",
       "                                           gamma=None, gpu_id=None,\n",
       "                                           grow_policy=None,\n",
       "                                           importance_type=None,\n",
       "                                           interaction_constraints=None,\n",
       "                                           learning_rate...\n",
       "                                        &#x27;gamma&#x27;: [0, 0.1, 0.2, 0.4, 0.8, 1.6,\n",
       "                                                  3.2, 6.4, 12.8, 25.6, 51.2,\n",
       "                                                  102.4, 200],\n",
       "                                        &#x27;learning_rate&#x27;: [0.0, 0.09, 0.18, 0.27,\n",
       "                                                          0.36, 0.44, 0.53,\n",
       "                                                          0.62, 0.71, 0.8],\n",
       "                                        &#x27;max_depth&#x27;: [1, 2, 3, 4, 5, 6, 7, 8,\n",
       "                                                      9],\n",
       "                                        &#x27;n_estimators&#x27;: [100, 200, 300, 400,\n",
       "                                                         500, 600, 700, 800,\n",
       "                                                         900, 1000, 1100, 1200,\n",
       "                                                         1300, 1400, 1500, 1600,\n",
       "                                                         1700, 1800, 1900,\n",
       "                                                         2000],\n",
       "                                        &#x27;reg_alpha&#x27;: [0, 1],\n",
       "                                        &#x27;reg_lambda&#x27;: [0, 1]},\n",
       "                   random_state=42, scoring=&#x27;accuracy&#x27;, verbose=1)</pre><b>In a Jupyter environment, please rerun this cell to show the HTML representation or trust the notebook. <br />On GitHub, the HTML representation is unable to render, please try loading this page with nbviewer.org.</b></div><div class=\"sk-container\" hidden><div class=\"sk-item sk-dashed-wrapped\"><div class=\"sk-label-container\"><div class=\"sk-label sk-toggleable\"><input class=\"sk-toggleable__control sk-hidden--visually\" id=\"sk-estimator-id-18\" type=\"checkbox\" ><label for=\"sk-estimator-id-18\" class=\"sk-toggleable__label sk-toggleable__label-arrow\">RandomizedSearchCV</label><div class=\"sk-toggleable__content\"><pre>RandomizedSearchCV(cv=3,\n",
       "                   estimator=XGBClassifier(base_score=None, booster=None,\n",
       "                                           callbacks=None,\n",
       "                                           colsample_bylevel=None,\n",
       "                                           colsample_bynode=None,\n",
       "                                           colsample_bytree=None,\n",
       "                                           early_stopping_rounds=None,\n",
       "                                           enable_categorical=False,\n",
       "                                           eval_metric=None, feature_types=None,\n",
       "                                           gamma=None, gpu_id=None,\n",
       "                                           grow_policy=None,\n",
       "                                           importance_type=None,\n",
       "                                           interaction_constraints=None,\n",
       "                                           learning_rate...\n",
       "                                        &#x27;gamma&#x27;: [0, 0.1, 0.2, 0.4, 0.8, 1.6,\n",
       "                                                  3.2, 6.4, 12.8, 25.6, 51.2,\n",
       "                                                  102.4, 200],\n",
       "                                        &#x27;learning_rate&#x27;: [0.0, 0.09, 0.18, 0.27,\n",
       "                                                          0.36, 0.44, 0.53,\n",
       "                                                          0.62, 0.71, 0.8],\n",
       "                                        &#x27;max_depth&#x27;: [1, 2, 3, 4, 5, 6, 7, 8,\n",
       "                                                      9],\n",
       "                                        &#x27;n_estimators&#x27;: [100, 200, 300, 400,\n",
       "                                                         500, 600, 700, 800,\n",
       "                                                         900, 1000, 1100, 1200,\n",
       "                                                         1300, 1400, 1500, 1600,\n",
       "                                                         1700, 1800, 1900,\n",
       "                                                         2000],\n",
       "                                        &#x27;reg_alpha&#x27;: [0, 1],\n",
       "                                        &#x27;reg_lambda&#x27;: [0, 1]},\n",
       "                   random_state=42, scoring=&#x27;accuracy&#x27;, verbose=1)</pre></div></div></div><div class=\"sk-parallel\"><div class=\"sk-parallel-item\"><div class=\"sk-item\"><div class=\"sk-label-container\"><div class=\"sk-label sk-toggleable\"><input class=\"sk-toggleable__control sk-hidden--visually\" id=\"sk-estimator-id-19\" type=\"checkbox\" ><label for=\"sk-estimator-id-19\" class=\"sk-toggleable__label sk-toggleable__label-arrow\">estimator: XGBClassifier</label><div class=\"sk-toggleable__content\"><pre>XGBClassifier(base_score=None, booster=None, callbacks=None,\n",
       "              colsample_bylevel=None, colsample_bynode=None,\n",
       "              colsample_bytree=None, early_stopping_rounds=None,\n",
       "              enable_categorical=False, eval_metric=None, feature_types=None,\n",
       "              gamma=None, gpu_id=None, grow_policy=None, importance_type=None,\n",
       "              interaction_constraints=None, learning_rate=None, max_bin=None,\n",
       "              max_cat_threshold=None, max_cat_to_onehot=None,\n",
       "              max_delta_step=None, max_depth=None, max_leaves=None,\n",
       "              min_child_weight=None, missing=nan, monotone_constraints=None,\n",
       "              n_estimators=100, n_jobs=None, num_parallel_tree=None,\n",
       "              predictor=None, random_state=None, ...)</pre></div></div></div><div class=\"sk-serial\"><div class=\"sk-item\"><div class=\"sk-estimator sk-toggleable\"><input class=\"sk-toggleable__control sk-hidden--visually\" id=\"sk-estimator-id-20\" type=\"checkbox\" ><label for=\"sk-estimator-id-20\" class=\"sk-toggleable__label sk-toggleable__label-arrow\">XGBClassifier</label><div class=\"sk-toggleable__content\"><pre>XGBClassifier(base_score=None, booster=None, callbacks=None,\n",
       "              colsample_bylevel=None, colsample_bynode=None,\n",
       "              colsample_bytree=None, early_stopping_rounds=None,\n",
       "              enable_categorical=False, eval_metric=None, feature_types=None,\n",
       "              gamma=None, gpu_id=None, grow_policy=None, importance_type=None,\n",
       "              interaction_constraints=None, learning_rate=None, max_bin=None,\n",
       "              max_cat_threshold=None, max_cat_to_onehot=None,\n",
       "              max_delta_step=None, max_depth=None, max_leaves=None,\n",
       "              min_child_weight=None, missing=nan, monotone_constraints=None,\n",
       "              n_estimators=100, n_jobs=None, num_parallel_tree=None,\n",
       "              predictor=None, random_state=None, ...)</pre></div></div></div></div></div></div></div></div></div></div>"
      ],
      "text/plain": [
       "RandomizedSearchCV(cv=3,\n",
       "                   estimator=XGBClassifier(base_score=None, booster=None,\n",
       "                                           callbacks=None,\n",
       "                                           colsample_bylevel=None,\n",
       "                                           colsample_bynode=None,\n",
       "                                           colsample_bytree=None,\n",
       "                                           early_stopping_rounds=None,\n",
       "                                           enable_categorical=False,\n",
       "                                           eval_metric=None, feature_types=None,\n",
       "                                           gamma=None, gpu_id=None,\n",
       "                                           grow_policy=None,\n",
       "                                           importance_type=None,\n",
       "                                           interaction_constraints=None,\n",
       "                                           learning_rate...\n",
       "                                        'gamma': [0, 0.1, 0.2, 0.4, 0.8, 1.6,\n",
       "                                                  3.2, 6.4, 12.8, 25.6, 51.2,\n",
       "                                                  102.4, 200],\n",
       "                                        'learning_rate': [0.0, 0.09, 0.18, 0.27,\n",
       "                                                          0.36, 0.44, 0.53,\n",
       "                                                          0.62, 0.71, 0.8],\n",
       "                                        'max_depth': [1, 2, 3, 4, 5, 6, 7, 8,\n",
       "                                                      9],\n",
       "                                        'n_estimators': [100, 200, 300, 400,\n",
       "                                                         500, 600, 700, 800,\n",
       "                                                         900, 1000, 1100, 1200,\n",
       "                                                         1300, 1400, 1500, 1600,\n",
       "                                                         1700, 1800, 1900,\n",
       "                                                         2000],\n",
       "                                        'reg_alpha': [0, 1],\n",
       "                                        'reg_lambda': [0, 1]},\n",
       "                   random_state=42, scoring='accuracy', verbose=1)"
      ]
     },
     "execution_count": 127,
     "metadata": {},
     "output_type": "execute_result"
    }
   ],
   "source": [
    "xgbc = XGBClassifier()\n",
    "\n",
    "max_depth_xgb = [i for i in range(1,10)]\n",
    "gamma_xgb= [0,0.1,0.2,0.4,0.8,1.6,3.2,6.4,12.8,25.6,51.2,102.4, 200]\n",
    "learning_rate_xgb = [round(float(x),2) for x in np.linspace(0,0.8,10)]\n",
    "n_estimators_xgb = [int(x) for x in np.linspace(start = 100, stop = 2000, num = 20)]\n",
    "colsample_bytree_xgb = [round(float(x),2) for x in np.linspace(0.2,1,20)]\n",
    "reg_alpha = [0,1]\n",
    "reg_lambda = [0,1]\n",
    "\n",
    "random_grid_xgb = {'max_depth': max_depth_xgb,\n",
    "              'learning_rate': learning_rate_xgb,\n",
    "              'n_estimators': n_estimators_xgb,\n",
    "              'colsample_bytree': colsample_bytree_xgb,\n",
    "              'reg_alpha': reg_alpha,\n",
    "              'reg_lambda': reg_lambda,\n",
    "                  'gamma': gamma_xgb}\n",
    "\n",
    "xgb_random = RandomizedSearchCV(estimator = xgbc, param_distributions = random_grid_xgb,\n",
    "                               cv = 3, verbose=1, random_state=42, n_jobs = -1, scoring = 'accuracy')\n",
    "xgb_random.fit(prepared_train_data, prepared_train_target)"
   ]
  },
  {
   "cell_type": "code",
   "execution_count": 131,
   "id": "846e1488",
   "metadata": {},
   "outputs": [
    {
     "data": {
      "text/html": [
       "<style>#sk-container-id-10 {color: black;background-color: white;}#sk-container-id-10 pre{padding: 0;}#sk-container-id-10 div.sk-toggleable {background-color: white;}#sk-container-id-10 label.sk-toggleable__label {cursor: pointer;display: block;width: 100%;margin-bottom: 0;padding: 0.3em;box-sizing: border-box;text-align: center;}#sk-container-id-10 label.sk-toggleable__label-arrow:before {content: \"▸\";float: left;margin-right: 0.25em;color: #696969;}#sk-container-id-10 label.sk-toggleable__label-arrow:hover:before {color: black;}#sk-container-id-10 div.sk-estimator:hover label.sk-toggleable__label-arrow:before {color: black;}#sk-container-id-10 div.sk-toggleable__content {max-height: 0;max-width: 0;overflow: hidden;text-align: left;background-color: #f0f8ff;}#sk-container-id-10 div.sk-toggleable__content pre {margin: 0.2em;color: black;border-radius: 0.25em;background-color: #f0f8ff;}#sk-container-id-10 input.sk-toggleable__control:checked~div.sk-toggleable__content {max-height: 200px;max-width: 100%;overflow: auto;}#sk-container-id-10 input.sk-toggleable__control:checked~label.sk-toggleable__label-arrow:before {content: \"▾\";}#sk-container-id-10 div.sk-estimator input.sk-toggleable__control:checked~label.sk-toggleable__label {background-color: #d4ebff;}#sk-container-id-10 div.sk-label input.sk-toggleable__control:checked~label.sk-toggleable__label {background-color: #d4ebff;}#sk-container-id-10 input.sk-hidden--visually {border: 0;clip: rect(1px 1px 1px 1px);clip: rect(1px, 1px, 1px, 1px);height: 1px;margin: -1px;overflow: hidden;padding: 0;position: absolute;width: 1px;}#sk-container-id-10 div.sk-estimator {font-family: monospace;background-color: #f0f8ff;border: 1px dotted black;border-radius: 0.25em;box-sizing: border-box;margin-bottom: 0.5em;}#sk-container-id-10 div.sk-estimator:hover {background-color: #d4ebff;}#sk-container-id-10 div.sk-parallel-item::after {content: \"\";width: 100%;border-bottom: 1px solid gray;flex-grow: 1;}#sk-container-id-10 div.sk-label:hover label.sk-toggleable__label {background-color: #d4ebff;}#sk-container-id-10 div.sk-serial::before {content: \"\";position: absolute;border-left: 1px solid gray;box-sizing: border-box;top: 0;bottom: 0;left: 50%;z-index: 0;}#sk-container-id-10 div.sk-serial {display: flex;flex-direction: column;align-items: center;background-color: white;padding-right: 0.2em;padding-left: 0.2em;position: relative;}#sk-container-id-10 div.sk-item {position: relative;z-index: 1;}#sk-container-id-10 div.sk-parallel {display: flex;align-items: stretch;justify-content: center;background-color: white;position: relative;}#sk-container-id-10 div.sk-item::before, #sk-container-id-10 div.sk-parallel-item::before {content: \"\";position: absolute;border-left: 1px solid gray;box-sizing: border-box;top: 0;bottom: 0;left: 50%;z-index: -1;}#sk-container-id-10 div.sk-parallel-item {display: flex;flex-direction: column;z-index: 1;position: relative;background-color: white;}#sk-container-id-10 div.sk-parallel-item:first-child::after {align-self: flex-end;width: 50%;}#sk-container-id-10 div.sk-parallel-item:last-child::after {align-self: flex-start;width: 50%;}#sk-container-id-10 div.sk-parallel-item:only-child::after {width: 0;}#sk-container-id-10 div.sk-dashed-wrapped {border: 1px dashed gray;margin: 0 0.4em 0.5em 0.4em;box-sizing: border-box;padding-bottom: 0.4em;background-color: white;}#sk-container-id-10 div.sk-label label {font-family: monospace;font-weight: bold;display: inline-block;line-height: 1.2em;}#sk-container-id-10 div.sk-label-container {text-align: center;}#sk-container-id-10 div.sk-container {/* jupyter's `normalize.less` sets `[hidden] { display: none; }` but bootstrap.min.css set `[hidden] { display: none !important; }` so we also need the `!important` here to be able to override the default hidden behavior on the sphinx rendered scikit-learn.org. See: https://github.com/scikit-learn/scikit-learn/issues/21755 */display: inline-block !important;position: relative;}#sk-container-id-10 div.sk-text-repr-fallback {display: none;}</style><div id=\"sk-container-id-10\" class=\"sk-top-container\"><div class=\"sk-text-repr-fallback\"><pre>XGBClassifier(base_score=None, booster=None, callbacks=None,\n",
       "              colsample_bylevel=None, colsample_bynode=None,\n",
       "              colsample_bytree=0.83, early_stopping_rounds=None,\n",
       "              enable_categorical=False, eval_metric=None, feature_types=None,\n",
       "              gamma=0.1, gpu_id=None, grow_policy=None, importance_type=None,\n",
       "              interaction_constraints=None, learning_rate=0.36, max_bin=None,\n",
       "              max_cat_threshold=None, max_cat_to_onehot=None,\n",
       "              max_delta_step=None, max_depth=5, max_leaves=None,\n",
       "              min_child_weight=None, missing=nan, monotone_constraints=None,\n",
       "              n_estimators=400, n_jobs=None, num_parallel_tree=None,\n",
       "              predictor=None, random_state=None, ...)</pre><b>In a Jupyter environment, please rerun this cell to show the HTML representation or trust the notebook. <br />On GitHub, the HTML representation is unable to render, please try loading this page with nbviewer.org.</b></div><div class=\"sk-container\" hidden><div class=\"sk-item\"><div class=\"sk-estimator sk-toggleable\"><input class=\"sk-toggleable__control sk-hidden--visually\" id=\"sk-estimator-id-22\" type=\"checkbox\" checked><label for=\"sk-estimator-id-22\" class=\"sk-toggleable__label sk-toggleable__label-arrow\">XGBClassifier</label><div class=\"sk-toggleable__content\"><pre>XGBClassifier(base_score=None, booster=None, callbacks=None,\n",
       "              colsample_bylevel=None, colsample_bynode=None,\n",
       "              colsample_bytree=0.83, early_stopping_rounds=None,\n",
       "              enable_categorical=False, eval_metric=None, feature_types=None,\n",
       "              gamma=0.1, gpu_id=None, grow_policy=None, importance_type=None,\n",
       "              interaction_constraints=None, learning_rate=0.36, max_bin=None,\n",
       "              max_cat_threshold=None, max_cat_to_onehot=None,\n",
       "              max_delta_step=None, max_depth=5, max_leaves=None,\n",
       "              min_child_weight=None, missing=nan, monotone_constraints=None,\n",
       "              n_estimators=400, n_jobs=None, num_parallel_tree=None,\n",
       "              predictor=None, random_state=None, ...)</pre></div></div></div></div></div>"
      ],
      "text/plain": [
       "XGBClassifier(base_score=None, booster=None, callbacks=None,\n",
       "              colsample_bylevel=None, colsample_bynode=None,\n",
       "              colsample_bytree=0.83, early_stopping_rounds=None,\n",
       "              enable_categorical=False, eval_metric=None, feature_types=None,\n",
       "              gamma=0.1, gpu_id=None, grow_policy=None, importance_type=None,\n",
       "              interaction_constraints=None, learning_rate=0.36, max_bin=None,\n",
       "              max_cat_threshold=None, max_cat_to_onehot=None,\n",
       "              max_delta_step=None, max_depth=5, max_leaves=None,\n",
       "              min_child_weight=None, missing=nan, monotone_constraints=None,\n",
       "              n_estimators=400, n_jobs=None, num_parallel_tree=None,\n",
       "              predictor=None, random_state=None, ...)"
      ]
     },
     "execution_count": 131,
     "metadata": {},
     "output_type": "execute_result"
    }
   ],
   "source": [
    "xgb_best = XGBClassifier(**xgb_random.best_params_)\n",
    "\n",
    "save_xgb = {'reg_lambda': 0,\n",
    " 'reg_alpha': 1,\n",
    " 'n_estimators': 400,\n",
    " 'max_depth': 5,\n",
    " 'learning_rate': 0.36,\n",
    " 'gamma': 0.1,\n",
    " 'colsample_bytree': 0.83}\n",
    "\n",
    "xgb_best.fit(prepared_train_data, prepared_train_target)"
   ]
  },
  {
   "cell_type": "code",
   "execution_count": 193,
   "id": "ec3e5631",
   "metadata": {},
   "outputs": [
    {
     "name": "stdout",
     "output_type": "stream",
     "text": [
      "precision score: 0.9636526410026858\n",
      "recall score: 0.9439621152328335\n",
      "accuracy score: 0.9597705574376347\n"
     ]
    }
   ],
   "source": [
    "y_pred_xgb = xgb_best.predict(prepared_test_data)\n",
    "                              \n",
    "score(prepared_test_target, y_pred_xgb)"
   ]
  },
  {
   "cell_type": "markdown",
   "id": "906730a1",
   "metadata": {},
   "source": [
    "3. Random Forest Classifier"
   ]
  },
  {
   "cell_type": "code",
   "execution_count": 134,
   "id": "9fd7628a",
   "metadata": {},
   "outputs": [
    {
     "data": {
      "text/plain": [
       "{'bootstrap': True,\n",
       " 'ccp_alpha': 0.0,\n",
       " 'class_weight': None,\n",
       " 'criterion': 'gini',\n",
       " 'max_depth': None,\n",
       " 'max_features': 'sqrt',\n",
       " 'max_leaf_nodes': None,\n",
       " 'max_samples': None,\n",
       " 'min_impurity_decrease': 0.0,\n",
       " 'min_samples_leaf': 1,\n",
       " 'min_samples_split': 2,\n",
       " 'min_weight_fraction_leaf': 0.0,\n",
       " 'n_estimators': 100,\n",
       " 'n_jobs': None,\n",
       " 'oob_score': False,\n",
       " 'random_state': None,\n",
       " 'verbose': 0,\n",
       " 'warm_start': False}"
      ]
     },
     "execution_count": 134,
     "metadata": {},
     "output_type": "execute_result"
    }
   ],
   "source": [
    "RandomForestClassifier().get_params()"
   ]
  },
  {
   "cell_type": "code",
   "execution_count": 180,
   "id": "ee09a3fb",
   "metadata": {},
   "outputs": [
    {
     "name": "stdout",
     "output_type": "stream",
     "text": [
      "Fitting 3 folds for each of 10 candidates, totalling 30 fits\n"
     ]
    },
    {
     "name": "stderr",
     "output_type": "stream",
     "text": [
      "/Users/dericodehnielsen/miniconda3/envs/tensorflow/lib/python3.10/site-packages/sklearn/ensemble/_forest.py:424: FutureWarning: `max_features='auto'` has been deprecated in 1.1 and will be removed in 1.3. To keep the past behaviour, explicitly set `max_features='sqrt'` or remove this parameter as it is also the default value for RandomForestClassifiers and ExtraTreesClassifiers.\n",
      "  warn(\n",
      "/Users/dericodehnielsen/miniconda3/envs/tensorflow/lib/python3.10/site-packages/sklearn/ensemble/_forest.py:424: FutureWarning: `max_features='auto'` has been deprecated in 1.1 and will be removed in 1.3. To keep the past behaviour, explicitly set `max_features='sqrt'` or remove this parameter as it is also the default value for RandomForestClassifiers and ExtraTreesClassifiers.\n",
      "  warn(\n",
      "/Users/dericodehnielsen/miniconda3/envs/tensorflow/lib/python3.10/site-packages/sklearn/ensemble/_forest.py:424: FutureWarning: `max_features='auto'` has been deprecated in 1.1 and will be removed in 1.3. To keep the past behaviour, explicitly set `max_features='sqrt'` or remove this parameter as it is also the default value for RandomForestClassifiers and ExtraTreesClassifiers.\n",
      "  warn(\n",
      "/Users/dericodehnielsen/miniconda3/envs/tensorflow/lib/python3.10/site-packages/sklearn/ensemble/_forest.py:424: FutureWarning: `max_features='auto'` has been deprecated in 1.1 and will be removed in 1.3. To keep the past behaviour, explicitly set `max_features='sqrt'` or remove this parameter as it is also the default value for RandomForestClassifiers and ExtraTreesClassifiers.\n",
      "  warn(\n",
      "/Users/dericodehnielsen/miniconda3/envs/tensorflow/lib/python3.10/site-packages/sklearn/ensemble/_forest.py:424: FutureWarning: `max_features='auto'` has been deprecated in 1.1 and will be removed in 1.3. To keep the past behaviour, explicitly set `max_features='sqrt'` or remove this parameter as it is also the default value for RandomForestClassifiers and ExtraTreesClassifiers.\n",
      "  warn(\n",
      "/Users/dericodehnielsen/miniconda3/envs/tensorflow/lib/python3.10/site-packages/sklearn/ensemble/_forest.py:424: FutureWarning: `max_features='auto'` has been deprecated in 1.1 and will be removed in 1.3. To keep the past behaviour, explicitly set `max_features='sqrt'` or remove this parameter as it is also the default value for RandomForestClassifiers and ExtraTreesClassifiers.\n",
      "  warn(\n",
      "/Users/dericodehnielsen/miniconda3/envs/tensorflow/lib/python3.10/site-packages/sklearn/ensemble/_forest.py:424: FutureWarning: `max_features='auto'` has been deprecated in 1.1 and will be removed in 1.3. To keep the past behaviour, explicitly set `max_features='sqrt'` or remove this parameter as it is also the default value for RandomForestClassifiers and ExtraTreesClassifiers.\n",
      "  warn(\n",
      "/Users/dericodehnielsen/miniconda3/envs/tensorflow/lib/python3.10/site-packages/sklearn/ensemble/_forest.py:424: FutureWarning: `max_features='auto'` has been deprecated in 1.1 and will be removed in 1.3. To keep the past behaviour, explicitly set `max_features='sqrt'` or remove this parameter as it is also the default value for RandomForestClassifiers and ExtraTreesClassifiers.\n",
      "  warn(\n",
      "/Users/dericodehnielsen/miniconda3/envs/tensorflow/lib/python3.10/site-packages/sklearn/ensemble/_forest.py:424: FutureWarning: `max_features='auto'` has been deprecated in 1.1 and will be removed in 1.3. To keep the past behaviour, explicitly set `max_features='sqrt'` or remove this parameter as it is also the default value for RandomForestClassifiers and ExtraTreesClassifiers.\n",
      "  warn(\n"
     ]
    },
    {
     "name": "stdout",
     "output_type": "stream",
     "text": [
      "[CV] END bootstrap=True, max_depth=3, max_features=auto, min_samples_leaf=4, min_samples_split=15, n_estimators=100; total time=   2.8s\n",
      "[CV] END bootstrap=True, max_depth=17, max_features=auto, min_samples_leaf=6, min_samples_split=5, n_estimators=1100; total time= 1.3min\n",
      "[CV] END bootstrap=False, max_depth=21, max_features=auto, min_samples_leaf=4, min_samples_split=10, n_estimators=1100; total time= 1.9min\n",
      "[CV] END bootstrap=True, max_depth=3, max_features=auto, min_samples_leaf=4, min_samples_split=15, n_estimators=100; total time=   2.8s\n",
      "[CV] END bootstrap=False, max_depth=5, max_features=sqrt, min_samples_leaf=2, min_samples_split=10, n_estimators=500; total time=  25.8s\n",
      "[CV] END bootstrap=False, max_depth=3, max_features=sqrt, min_samples_leaf=2, min_samples_split=2, n_estimators=500; total time=  17.5s\n",
      "[CV] END bootstrap=False, max_depth=3, max_features=sqrt, min_samples_leaf=2, min_samples_split=2, n_estimators=500; total time=  16.7s\n",
      "[CV] END bootstrap=True, max_depth=19, max_features=sqrt, min_samples_leaf=4, min_samples_split=5, n_estimators=600; total time=  43.4s\n",
      "[CV] END bootstrap=False, max_depth=21, max_features=auto, min_samples_leaf=4, min_samples_split=10, n_estimators=1100; total time= 1.7min\n"
     ]
    },
    {
     "name": "stderr",
     "output_type": "stream",
     "text": [
      "/Users/dericodehnielsen/miniconda3/envs/tensorflow/lib/python3.10/site-packages/sklearn/ensemble/_forest.py:424: FutureWarning: `max_features='auto'` has been deprecated in 1.1 and will be removed in 1.3. To keep the past behaviour, explicitly set `max_features='sqrt'` or remove this parameter as it is also the default value for RandomForestClassifiers and ExtraTreesClassifiers.\n",
      "  warn(\n"
     ]
    },
    {
     "data": {
      "text/html": [
       "<style>#sk-container-id-13 {color: black;background-color: white;}#sk-container-id-13 pre{padding: 0;}#sk-container-id-13 div.sk-toggleable {background-color: white;}#sk-container-id-13 label.sk-toggleable__label {cursor: pointer;display: block;width: 100%;margin-bottom: 0;padding: 0.3em;box-sizing: border-box;text-align: center;}#sk-container-id-13 label.sk-toggleable__label-arrow:before {content: \"▸\";float: left;margin-right: 0.25em;color: #696969;}#sk-container-id-13 label.sk-toggleable__label-arrow:hover:before {color: black;}#sk-container-id-13 div.sk-estimator:hover label.sk-toggleable__label-arrow:before {color: black;}#sk-container-id-13 div.sk-toggleable__content {max-height: 0;max-width: 0;overflow: hidden;text-align: left;background-color: #f0f8ff;}#sk-container-id-13 div.sk-toggleable__content pre {margin: 0.2em;color: black;border-radius: 0.25em;background-color: #f0f8ff;}#sk-container-id-13 input.sk-toggleable__control:checked~div.sk-toggleable__content {max-height: 200px;max-width: 100%;overflow: auto;}#sk-container-id-13 input.sk-toggleable__control:checked~label.sk-toggleable__label-arrow:before {content: \"▾\";}#sk-container-id-13 div.sk-estimator input.sk-toggleable__control:checked~label.sk-toggleable__label {background-color: #d4ebff;}#sk-container-id-13 div.sk-label input.sk-toggleable__control:checked~label.sk-toggleable__label {background-color: #d4ebff;}#sk-container-id-13 input.sk-hidden--visually {border: 0;clip: rect(1px 1px 1px 1px);clip: rect(1px, 1px, 1px, 1px);height: 1px;margin: -1px;overflow: hidden;padding: 0;position: absolute;width: 1px;}#sk-container-id-13 div.sk-estimator {font-family: monospace;background-color: #f0f8ff;border: 1px dotted black;border-radius: 0.25em;box-sizing: border-box;margin-bottom: 0.5em;}#sk-container-id-13 div.sk-estimator:hover {background-color: #d4ebff;}#sk-container-id-13 div.sk-parallel-item::after {content: \"\";width: 100%;border-bottom: 1px solid gray;flex-grow: 1;}#sk-container-id-13 div.sk-label:hover label.sk-toggleable__label {background-color: #d4ebff;}#sk-container-id-13 div.sk-serial::before {content: \"\";position: absolute;border-left: 1px solid gray;box-sizing: border-box;top: 0;bottom: 0;left: 50%;z-index: 0;}#sk-container-id-13 div.sk-serial {display: flex;flex-direction: column;align-items: center;background-color: white;padding-right: 0.2em;padding-left: 0.2em;position: relative;}#sk-container-id-13 div.sk-item {position: relative;z-index: 1;}#sk-container-id-13 div.sk-parallel {display: flex;align-items: stretch;justify-content: center;background-color: white;position: relative;}#sk-container-id-13 div.sk-item::before, #sk-container-id-13 div.sk-parallel-item::before {content: \"\";position: absolute;border-left: 1px solid gray;box-sizing: border-box;top: 0;bottom: 0;left: 50%;z-index: -1;}#sk-container-id-13 div.sk-parallel-item {display: flex;flex-direction: column;z-index: 1;position: relative;background-color: white;}#sk-container-id-13 div.sk-parallel-item:first-child::after {align-self: flex-end;width: 50%;}#sk-container-id-13 div.sk-parallel-item:last-child::after {align-self: flex-start;width: 50%;}#sk-container-id-13 div.sk-parallel-item:only-child::after {width: 0;}#sk-container-id-13 div.sk-dashed-wrapped {border: 1px dashed gray;margin: 0 0.4em 0.5em 0.4em;box-sizing: border-box;padding-bottom: 0.4em;background-color: white;}#sk-container-id-13 div.sk-label label {font-family: monospace;font-weight: bold;display: inline-block;line-height: 1.2em;}#sk-container-id-13 div.sk-label-container {text-align: center;}#sk-container-id-13 div.sk-container {/* jupyter's `normalize.less` sets `[hidden] { display: none; }` but bootstrap.min.css set `[hidden] { display: none !important; }` so we also need the `!important` here to be able to override the default hidden behavior on the sphinx rendered scikit-learn.org. See: https://github.com/scikit-learn/scikit-learn/issues/21755 */display: inline-block !important;position: relative;}#sk-container-id-13 div.sk-text-repr-fallback {display: none;}</style><div id=\"sk-container-id-13\" class=\"sk-top-container\"><div class=\"sk-text-repr-fallback\"><pre>RandomizedSearchCV(cv=3, estimator=RandomForestClassifier(), n_jobs=-1,\n",
       "                   param_distributions={&#x27;bootstrap&#x27;: [True, False],\n",
       "                                        &#x27;max_depth&#x27;: [1, 3, 5, 7, 9, 11, 13, 15,\n",
       "                                                      17, 19, 21, 23, 25, 27,\n",
       "                                                      30, None],\n",
       "                                        &#x27;max_features&#x27;: [&#x27;auto&#x27;, &#x27;sqrt&#x27;],\n",
       "                                        &#x27;min_samples_leaf&#x27;: [1, 2, 4, 6],\n",
       "                                        &#x27;min_samples_split&#x27;: [2, 5, 10, 15],\n",
       "                                        &#x27;n_estimators&#x27;: [100, 200, 300, 400,\n",
       "                                                         500, 600, 700, 800,\n",
       "                                                         900, 1000, 1100, 1200,\n",
       "                                                         1300, 1400, 1500, 1600,\n",
       "                                                         1700, 1800, 1900,\n",
       "                                                         2000]},\n",
       "                   random_state=42, scoring=&#x27;accuracy&#x27;, verbose=2)</pre><b>In a Jupyter environment, please rerun this cell to show the HTML representation or trust the notebook. <br />On GitHub, the HTML representation is unable to render, please try loading this page with nbviewer.org.</b></div><div class=\"sk-container\" hidden><div class=\"sk-item sk-dashed-wrapped\"><div class=\"sk-label-container\"><div class=\"sk-label sk-toggleable\"><input class=\"sk-toggleable__control sk-hidden--visually\" id=\"sk-estimator-id-27\" type=\"checkbox\" ><label for=\"sk-estimator-id-27\" class=\"sk-toggleable__label sk-toggleable__label-arrow\">RandomizedSearchCV</label><div class=\"sk-toggleable__content\"><pre>RandomizedSearchCV(cv=3, estimator=RandomForestClassifier(), n_jobs=-1,\n",
       "                   param_distributions={&#x27;bootstrap&#x27;: [True, False],\n",
       "                                        &#x27;max_depth&#x27;: [1, 3, 5, 7, 9, 11, 13, 15,\n",
       "                                                      17, 19, 21, 23, 25, 27,\n",
       "                                                      30, None],\n",
       "                                        &#x27;max_features&#x27;: [&#x27;auto&#x27;, &#x27;sqrt&#x27;],\n",
       "                                        &#x27;min_samples_leaf&#x27;: [1, 2, 4, 6],\n",
       "                                        &#x27;min_samples_split&#x27;: [2, 5, 10, 15],\n",
       "                                        &#x27;n_estimators&#x27;: [100, 200, 300, 400,\n",
       "                                                         500, 600, 700, 800,\n",
       "                                                         900, 1000, 1100, 1200,\n",
       "                                                         1300, 1400, 1500, 1600,\n",
       "                                                         1700, 1800, 1900,\n",
       "                                                         2000]},\n",
       "                   random_state=42, scoring=&#x27;accuracy&#x27;, verbose=2)</pre></div></div></div><div class=\"sk-parallel\"><div class=\"sk-parallel-item\"><div class=\"sk-item\"><div class=\"sk-label-container\"><div class=\"sk-label sk-toggleable\"><input class=\"sk-toggleable__control sk-hidden--visually\" id=\"sk-estimator-id-28\" type=\"checkbox\" ><label for=\"sk-estimator-id-28\" class=\"sk-toggleable__label sk-toggleable__label-arrow\">estimator: RandomForestClassifier</label><div class=\"sk-toggleable__content\"><pre>RandomForestClassifier()</pre></div></div></div><div class=\"sk-serial\"><div class=\"sk-item\"><div class=\"sk-estimator sk-toggleable\"><input class=\"sk-toggleable__control sk-hidden--visually\" id=\"sk-estimator-id-29\" type=\"checkbox\" ><label for=\"sk-estimator-id-29\" class=\"sk-toggleable__label sk-toggleable__label-arrow\">RandomForestClassifier</label><div class=\"sk-toggleable__content\"><pre>RandomForestClassifier()</pre></div></div></div></div></div></div></div></div></div></div>"
      ],
      "text/plain": [
       "RandomizedSearchCV(cv=3, estimator=RandomForestClassifier(), n_jobs=-1,\n",
       "                   param_distributions={'bootstrap': [True, False],\n",
       "                                        'max_depth': [1, 3, 5, 7, 9, 11, 13, 15,\n",
       "                                                      17, 19, 21, 23, 25, 27,\n",
       "                                                      30, None],\n",
       "                                        'max_features': ['auto', 'sqrt'],\n",
       "                                        'min_samples_leaf': [1, 2, 4, 6],\n",
       "                                        'min_samples_split': [2, 5, 10, 15],\n",
       "                                        'n_estimators': [100, 200, 300, 400,\n",
       "                                                         500, 600, 700, 800,\n",
       "                                                         900, 1000, 1100, 1200,\n",
       "                                                         1300, 1400, 1500, 1600,\n",
       "                                                         1700, 1800, 1900,\n",
       "                                                         2000]},\n",
       "                   random_state=42, scoring='accuracy', verbose=2)"
      ]
     },
     "execution_count": 180,
     "metadata": {},
     "output_type": "execute_result"
    }
   ],
   "source": [
    "rf = RandomForestClassifier()\n",
    "\n",
    "# Number of trees in random forest\n",
    "n_estimators = [int(x) for x in np.linspace(start = 100, stop = 2000, num = 20)]\n",
    "# Number of features to consider at every split\n",
    "max_features = ['auto', 'sqrt']\n",
    "# Maximum number of levels in tree\n",
    "max_depth = [int(x) for x in np.linspace(1, 30, num = 15)]\n",
    "max_depth.append(None)\n",
    "# Minimum number of samples required to split a node\n",
    "min_samples_split = [2, 5, 10, 15]\n",
    "# Minimum number of samples required at each leaf node\n",
    "min_samples_leaf = [1, 2, 4,6]\n",
    "# Method of selecting samples for training each tree\n",
    "bootstrap = [True, False]\n",
    "# Create the random grid\n",
    "random_grid_rf = {'n_estimators': n_estimators,\n",
    "               'max_features': max_features,\n",
    "               'max_depth': max_depth,\n",
    "               'min_samples_split': min_samples_split,\n",
    "               'min_samples_leaf': min_samples_leaf,\n",
    "               'bootstrap': bootstrap}\n",
    "\n",
    "rf_random = RandomizedSearchCV(estimator = rf, param_distributions = random_grid_rf,\n",
    "                               cv = 3, verbose=2, random_state=42, n_jobs = -1, scoring = 'accuracy')\n",
    "rf_random.fit(prepared_train_data, prepared_train_target)"
   ]
  },
  {
   "cell_type": "code",
   "execution_count": 181,
   "id": "8a68247c",
   "metadata": {},
   "outputs": [
    {
     "data": {
      "text/plain": [
       "{'n_estimators': 1100,\n",
       " 'min_samples_split': 10,\n",
       " 'min_samples_leaf': 4,\n",
       " 'max_features': 'auto',\n",
       " 'max_depth': 21,\n",
       " 'bootstrap': False}"
      ]
     },
     "execution_count": 181,
     "metadata": {},
     "output_type": "execute_result"
    }
   ],
   "source": [
    "rf_random.best_params_"
   ]
  },
  {
   "cell_type": "code",
   "execution_count": 182,
   "id": "5ced49f8",
   "metadata": {},
   "outputs": [
    {
     "name": "stderr",
     "output_type": "stream",
     "text": [
      "/Users/dericodehnielsen/miniconda3/envs/tensorflow/lib/python3.10/site-packages/sklearn/ensemble/_forest.py:424: FutureWarning: `max_features='auto'` has been deprecated in 1.1 and will be removed in 1.3. To keep the past behaviour, explicitly set `max_features='sqrt'` or remove this parameter as it is also the default value for RandomForestClassifiers and ExtraTreesClassifiers.\n",
      "  warn(\n"
     ]
    },
    {
     "data": {
      "text/html": [
       "<style>#sk-container-id-14 {color: black;background-color: white;}#sk-container-id-14 pre{padding: 0;}#sk-container-id-14 div.sk-toggleable {background-color: white;}#sk-container-id-14 label.sk-toggleable__label {cursor: pointer;display: block;width: 100%;margin-bottom: 0;padding: 0.3em;box-sizing: border-box;text-align: center;}#sk-container-id-14 label.sk-toggleable__label-arrow:before {content: \"▸\";float: left;margin-right: 0.25em;color: #696969;}#sk-container-id-14 label.sk-toggleable__label-arrow:hover:before {color: black;}#sk-container-id-14 div.sk-estimator:hover label.sk-toggleable__label-arrow:before {color: black;}#sk-container-id-14 div.sk-toggleable__content {max-height: 0;max-width: 0;overflow: hidden;text-align: left;background-color: #f0f8ff;}#sk-container-id-14 div.sk-toggleable__content pre {margin: 0.2em;color: black;border-radius: 0.25em;background-color: #f0f8ff;}#sk-container-id-14 input.sk-toggleable__control:checked~div.sk-toggleable__content {max-height: 200px;max-width: 100%;overflow: auto;}#sk-container-id-14 input.sk-toggleable__control:checked~label.sk-toggleable__label-arrow:before {content: \"▾\";}#sk-container-id-14 div.sk-estimator input.sk-toggleable__control:checked~label.sk-toggleable__label {background-color: #d4ebff;}#sk-container-id-14 div.sk-label input.sk-toggleable__control:checked~label.sk-toggleable__label {background-color: #d4ebff;}#sk-container-id-14 input.sk-hidden--visually {border: 0;clip: rect(1px 1px 1px 1px);clip: rect(1px, 1px, 1px, 1px);height: 1px;margin: -1px;overflow: hidden;padding: 0;position: absolute;width: 1px;}#sk-container-id-14 div.sk-estimator {font-family: monospace;background-color: #f0f8ff;border: 1px dotted black;border-radius: 0.25em;box-sizing: border-box;margin-bottom: 0.5em;}#sk-container-id-14 div.sk-estimator:hover {background-color: #d4ebff;}#sk-container-id-14 div.sk-parallel-item::after {content: \"\";width: 100%;border-bottom: 1px solid gray;flex-grow: 1;}#sk-container-id-14 div.sk-label:hover label.sk-toggleable__label {background-color: #d4ebff;}#sk-container-id-14 div.sk-serial::before {content: \"\";position: absolute;border-left: 1px solid gray;box-sizing: border-box;top: 0;bottom: 0;left: 50%;z-index: 0;}#sk-container-id-14 div.sk-serial {display: flex;flex-direction: column;align-items: center;background-color: white;padding-right: 0.2em;padding-left: 0.2em;position: relative;}#sk-container-id-14 div.sk-item {position: relative;z-index: 1;}#sk-container-id-14 div.sk-parallel {display: flex;align-items: stretch;justify-content: center;background-color: white;position: relative;}#sk-container-id-14 div.sk-item::before, #sk-container-id-14 div.sk-parallel-item::before {content: \"\";position: absolute;border-left: 1px solid gray;box-sizing: border-box;top: 0;bottom: 0;left: 50%;z-index: -1;}#sk-container-id-14 div.sk-parallel-item {display: flex;flex-direction: column;z-index: 1;position: relative;background-color: white;}#sk-container-id-14 div.sk-parallel-item:first-child::after {align-self: flex-end;width: 50%;}#sk-container-id-14 div.sk-parallel-item:last-child::after {align-self: flex-start;width: 50%;}#sk-container-id-14 div.sk-parallel-item:only-child::after {width: 0;}#sk-container-id-14 div.sk-dashed-wrapped {border: 1px dashed gray;margin: 0 0.4em 0.5em 0.4em;box-sizing: border-box;padding-bottom: 0.4em;background-color: white;}#sk-container-id-14 div.sk-label label {font-family: monospace;font-weight: bold;display: inline-block;line-height: 1.2em;}#sk-container-id-14 div.sk-label-container {text-align: center;}#sk-container-id-14 div.sk-container {/* jupyter's `normalize.less` sets `[hidden] { display: none; }` but bootstrap.min.css set `[hidden] { display: none !important; }` so we also need the `!important` here to be able to override the default hidden behavior on the sphinx rendered scikit-learn.org. See: https://github.com/scikit-learn/scikit-learn/issues/21755 */display: inline-block !important;position: relative;}#sk-container-id-14 div.sk-text-repr-fallback {display: none;}</style><div id=\"sk-container-id-14\" class=\"sk-top-container\"><div class=\"sk-text-repr-fallback\"><pre>RandomForestClassifier(bootstrap=False, max_depth=21, max_features=&#x27;auto&#x27;,\n",
       "                       min_samples_leaf=4, min_samples_split=10,\n",
       "                       n_estimators=1100)</pre><b>In a Jupyter environment, please rerun this cell to show the HTML representation or trust the notebook. <br />On GitHub, the HTML representation is unable to render, please try loading this page with nbviewer.org.</b></div><div class=\"sk-container\" hidden><div class=\"sk-item\"><div class=\"sk-estimator sk-toggleable\"><input class=\"sk-toggleable__control sk-hidden--visually\" id=\"sk-estimator-id-30\" type=\"checkbox\" checked><label for=\"sk-estimator-id-30\" class=\"sk-toggleable__label sk-toggleable__label-arrow\">RandomForestClassifier</label><div class=\"sk-toggleable__content\"><pre>RandomForestClassifier(bootstrap=False, max_depth=21, max_features=&#x27;auto&#x27;,\n",
       "                       min_samples_leaf=4, min_samples_split=10,\n",
       "                       n_estimators=1100)</pre></div></div></div></div></div>"
      ],
      "text/plain": [
       "RandomForestClassifier(bootstrap=False, max_depth=21, max_features='auto',\n",
       "                       min_samples_leaf=4, min_samples_split=10,\n",
       "                       n_estimators=1100)"
      ]
     },
     "execution_count": 182,
     "metadata": {},
     "output_type": "execute_result"
    }
   ],
   "source": [
    "rf_best = RandomForestClassifier(**rf_random.best_params_)\n",
    "\n",
    "save_rf = {'n_estimators': 1600,\n",
    " 'min_samples_split': 10,\n",
    " 'min_samples_leaf': 2,\n",
    " 'max_features': 'sqrt',\n",
    " 'max_depth': 73,\n",
    " 'bootstrap': False}\n",
    "\n",
    "rf_best.fit(prepared_train_data, prepared_train_target)"
   ]
  },
  {
   "cell_type": "code",
   "execution_count": 194,
   "id": "8e0ffd48",
   "metadata": {},
   "outputs": [
    {
     "name": "stdout",
     "output_type": "stream",
     "text": [
      "precision score: 0.9696040407684676\n",
      "recall score: 0.9427343681487328\n",
      "accuracy score: 0.9618878965198645\n"
     ]
    }
   ],
   "source": [
    "y_pred_rf = rf_best.predict(prepared_test_data)\n",
    "                              \n",
    "score(np.array(prepared_test_target), np.array(y_pred_rf))"
   ]
  },
  {
   "cell_type": "markdown",
   "id": "e9c2a208",
   "metadata": {},
   "source": [
    "Compile the three algorithms into one voting classifier"
   ]
  },
  {
   "cell_type": "code",
   "execution_count": 217,
   "id": "642b3523",
   "metadata": {},
   "outputs": [
    {
     "name": "stdout",
     "output_type": "stream",
     "text": [
      "precision score: 0.9646500805441203\n",
      "recall score: 0.9452775585372271\n",
      "accuracy score: 0.9607714813674161\n",
      "LGBMClassifier None\n",
      "precision score: 0.9636526410026858\n",
      "recall score: 0.9439621152328335\n",
      "accuracy score: 0.9597705574376347\n",
      "XGBClassifier None\n"
     ]
    },
    {
     "name": "stderr",
     "output_type": "stream",
     "text": [
      "/Users/dericodehnielsen/miniconda3/envs/tensorflow/lib/python3.10/site-packages/sklearn/ensemble/_forest.py:424: FutureWarning: `max_features='auto'` has been deprecated in 1.1 and will be removed in 1.3. To keep the past behaviour, explicitly set `max_features='sqrt'` or remove this parameter as it is also the default value for RandomForestClassifiers and ExtraTreesClassifiers.\n",
      "  warn(\n"
     ]
    },
    {
     "name": "stdout",
     "output_type": "stream",
     "text": [
      "precision score: 0.9696860339227715\n",
      "recall score: 0.942558975708147\n",
      "accuracy score: 0.9618493994456422\n",
      "RandomForestClassifier None\n"
     ]
    },
    {
     "name": "stderr",
     "output_type": "stream",
     "text": [
      "/Users/dericodehnielsen/miniconda3/envs/tensorflow/lib/python3.10/site-packages/sklearn/ensemble/_forest.py:424: FutureWarning: `max_features='auto'` has been deprecated in 1.1 and will be removed in 1.3. To keep the past behaviour, explicitly set `max_features='sqrt'` or remove this parameter as it is also the default value for RandomForestClassifiers and ExtraTreesClassifiers.\n",
      "  warn(\n"
     ]
    },
    {
     "name": "stdout",
     "output_type": "stream",
     "text": [
      "precision score: 0.9689385072476816\n",
      "recall score: 0.9437867227922476\n",
      "accuracy score: 0.9620418848167539\n",
      "VotingClassifier None\n"
     ]
    }
   ],
   "source": [
    "from sklearn.ensemble import VotingClassifier\n",
    "\n",
    "voting_clf = VotingClassifier(estimators=[('lgbm', lgbm_best), ('xgb', xgb_best), ('rf', rf_best)],\n",
    "                             voting='soft')\n",
    "\n",
    "for clf in (lgbm_best, xgb_best, rf_best, voting_clf):\n",
    "    clf.fit(prepared_train_data, prepared_train_target)\n",
    "    y_pred = clf.predict(prepared_test_data)\n",
    "    print(clf.__class__.__name__, score(prepared_test_target, y_pred))"
   ]
  },
  {
   "cell_type": "code",
   "execution_count": 216,
   "id": "56f04423",
   "metadata": {},
   "outputs": [
    {
     "data": {
      "image/png": "[encoded data removed]",
      "text/plain": [
       "<Figure size 1000x600 with 1 Axes>"
      ]
     },
     "metadata": {},
     "output_type": "display_data"
    }
   ],
   "source": [
    "acc = [0.9608, 0.9598, 0.9616, 0.9620]\n",
    "mod = ['LGBMClassifier', 'XGBClassifier', 'RandomForestClassifier','VotingClassifier']\n",
    "\n",
    "# Create a figure object\n",
    "fig = plt.figure(figsize=(10,6))\n",
    "\n",
    "# Add a subplot to the figure\n",
    "ax = fig.add_subplot(111)\n",
    "bars = ax.bar(mod, acc)\n",
    "\n",
    "for bar in bars:\n",
    "    height = bar.get_height()\n",
    "    ax.annotate(f'{height}', xy=(bar.get_x() + bar.get_width() / 2, height), xytext=(0, 3),\n",
    "    textcoords=\"offset points\", ha='center', va='bottom')\n",
    "plt.title('Accuracy Score')\n",
    "plt.show()"
   ]
  },
  {
   "cell_type": "code",
   "execution_count": 189,
   "id": "7230d2b4",
   "metadata": {},
   "outputs": [
    {
     "data": {
      "text/plain": [
       "array([1, 1, 0, ..., 0, 1, 0])"
      ]
     },
     "execution_count": 189,
     "metadata": {},
     "output_type": "execute_result"
    },
    {
     "name": "stdout",
     "output_type": "stream",
     "text": [
      "[CV] END bootstrap=False, max_depth=17, max_features=sqrt, min_samples_leaf=2, min_samples_split=5, n_estimators=1600; total time= 2.7min\n",
      "[CV] END bootstrap=False, max_depth=13, max_features=sqrt, min_samples_leaf=1, min_samples_split=5, n_estimators=400; total time=  35.9s\n",
      "[CV] END bootstrap=False, max_depth=17, max_features=sqrt, min_samples_leaf=2, min_samples_split=5, n_estimators=1600; total time= 2.7min\n",
      "[CV] END bootstrap=False, max_depth=13, max_features=sqrt, min_samples_leaf=1, min_samples_split=5, n_estimators=400; total time=  35.6s\n",
      "[CV] END bootstrap=False, max_depth=17, max_features=sqrt, min_samples_leaf=2, min_samples_split=5, n_estimators=1600; total time= 2.7min\n",
      "[CV] END bootstrap=False, max_depth=13, max_features=sqrt, min_samples_leaf=1, min_samples_split=5, n_estimators=400; total time=  36.0s\n",
      "[CV] END bootstrap=True, max_depth=3, max_features=auto, min_samples_leaf=4, min_samples_split=15, n_estimators=100; total time=   2.9s\n",
      "[CV] END bootstrap=False, max_depth=5, max_features=sqrt, min_samples_leaf=2, min_samples_split=10, n_estimators=500; total time=  25.7s\n",
      "[CV] END bootstrap=False, max_depth=5, max_features=sqrt, min_samples_leaf=2, min_samples_split=10, n_estimators=500; total time=  24.4s\n",
      "[CV] END bootstrap=False, max_depth=3, max_features=sqrt, min_samples_leaf=2, min_samples_split=2, n_estimators=500; total time=  17.1s\n",
      "[CV] END bootstrap=True, max_depth=19, max_features=sqrt, min_samples_leaf=4, min_samples_split=5, n_estimators=600; total time=  42.7s\n",
      "[CV] END bootstrap=True, max_depth=13, max_features=sqrt, min_samples_leaf=6, min_samples_split=5, n_estimators=700; total time=  45.1s\n",
      "[CV] END bootstrap=True, max_depth=13, max_features=sqrt, min_samples_leaf=6, min_samples_split=5, n_estimators=700; total time=  43.5s\n",
      "[CV] END bootstrap=True, max_depth=17, max_features=auto, min_samples_leaf=6, min_samples_split=5, n_estimators=1100; total time= 1.3min\n",
      "[CV] END bootstrap=False, max_depth=21, max_features=auto, min_samples_leaf=4, min_samples_split=10, n_estimators=1100; total time= 1.9min\n",
      "[CV] END bootstrap=False, max_depth=3, max_features=sqrt, min_samples_leaf=4, min_samples_split=2, n_estimators=400; total time=  11.3s\n"
     ]
    }
   ],
   "source": [
    "prepared_test_target"
   ]
  },
  {
   "cell_type": "code",
   "execution_count": 243,
   "id": "c4a11026",
   "metadata": {},
   "outputs": [],
   "source": [
    "from sklearn.metrics import roc_curve, auc\n",
    "\n",
    "y_pred = voting_clf.predict_proba(prepared_test_data)\n",
    "fpr, tpr, thresholds = roc_curve(np.array(prepared_test_target), np.array(y_pred[:,1]))\n",
    "roc_auc = auc(fpr, tpr)"
   ]
  },
  {
   "cell_type": "code",
   "execution_count": 244,
   "id": "3263f3de",
   "metadata": {},
   "outputs": [
    {
     "data": {
      "text/plain": [
       "0.9946775922448787"
      ]
     },
     "execution_count": 244,
     "metadata": {},
     "output_type": "execute_result"
    }
   ],
   "source": [
    "rocplot = pd.DataFrame()\n",
    "rocplot['fpr'], rocplot['tpr']=fpr, tpr\n",
    "\n",
    "roc_auc"
   ]
  },
  {
   "cell_type": "code",
   "execution_count": 245,
   "id": "0b30edb1",
   "metadata": {},
   "outputs": [
    {
     "data": {
      "image/png": "[encoded data removed]",
      "text/plain": [
       "<Figure size 640x480 with 1 Axes>"
      ]
     },
     "metadata": {},
     "output_type": "display_data"
    },
    {
     "data": {
      "text/plain": [
       "<ggplot: (688721467)>"
      ]
     },
     "execution_count": 245,
     "metadata": {},
     "output_type": "execute_result"
    }
   ],
   "source": [
    "%matplotlib inline\n",
    "from plotnine import *\n",
    "\n",
    "(ggplot(data=rocplot, mapping=aes(x='fpr', y='tpr'))+\n",
    "geom_line(color='steelblue')+\n",
    "ggtitle(f'AUC={roc_auc}')+\n",
    "geom_abline(linetype='dashed', color='darkorange')+\n",
    " ylab(\"TPR\")+\n",
    " xlab(\"FPR\")+\n",
    " theme_bw()\n",
    ")"
   ]
  },
  {
   "cell_type": "code",
   "execution_count": 242,
   "id": "aa9fecce",
   "metadata": {},
   "outputs": [
    {
     "data": {
      "text/plain": [
       "array([9.95099930e-01, 9.99949236e-01, 3.60899906e-04, ...,\n",
       "       9.94433139e-04, 9.98905069e-01, 5.68635815e-04])"
      ]
     },
     "execution_count": 242,
     "metadata": {},
     "output_type": "execute_result"
    }
   ],
   "source": [
    "y_pred = voting_clf.predict_proba(prepared_test_data)\n",
    "y_pred[:,1]"
   ]
  },
  {
   "cell_type": "code",
   "execution_count": null,
   "id": "f463ef18",
   "metadata": {},
   "outputs": [],
   "source": []
  }
 ],
 "metadata": {
  "kernelspec": {
   "display_name": "Python 3.10 (tensorflow)",
   "language": "python",
   "name": "tensorflow"
  },
  "language_info": {
   "codemirror_mode": {
    "name": "ipython",
    "version": 3
   },
   "file_extension": ".py",
   "mimetype": "text/x-python",
   "name": "python",
   "nbconvert_exporter": "python",
   "pygments_lexer": "ipython3",
   "version": "3.10.10"
  }
 },
 "nbformat": 4,
 "nbformat_minor": 5
}
